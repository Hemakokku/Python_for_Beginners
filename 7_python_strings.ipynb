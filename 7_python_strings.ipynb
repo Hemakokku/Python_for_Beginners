{
 "cells": [
  {
   "cell_type": "markdown",
   "id": "fa77b77c",
   "metadata": {},
   "source": [
    "# python_strings"
   ]
  },
  {
   "cell_type": "markdown",
   "id": "3b20cd6e",
   "metadata": {},
   "source": [
    "Strings in python are surrounded by either single quotation marks, or double quotation marks.\n",
    "\n",
    "'hello' is the same as \"hello\".\n",
    "\n",
    "You can display a string literal with the print() function:"
   ]
  },
  {
   "cell_type": "code",
   "execution_count": 1,
   "id": "c71af537",
   "metadata": {},
   "outputs": [
    {
     "name": "stdout",
     "output_type": "stream",
     "text": [
      "Hema\n"
     ]
    }
   ],
   "source": [
    "print(\"Hema\")"
   ]
  },
  {
   "cell_type": "markdown",
   "id": "196693f8",
   "metadata": {},
   "source": [
    "# Assign String to a Variable\n",
    "Assigning a string to a variable is done with the variable name followed by an equal sign and the string:"
   ]
  },
  {
   "cell_type": "code",
   "execution_count": 2,
   "id": "6cd3ef28",
   "metadata": {},
   "outputs": [
    {
     "name": "stdout",
     "output_type": "stream",
     "text": [
      "Hema\n"
     ]
    }
   ],
   "source": [
    "a = \"Hema\"     #assigning string to a variable\n",
    "print(a)"
   ]
  },
  {
   "cell_type": "markdown",
   "id": "8e99e5ed",
   "metadata": {},
   "source": [
    "# multline strings"
   ]
  },
  {
   "cell_type": "markdown",
   "id": "1462c986",
   "metadata": {},
   "source": [
    "You can assign a multiline string to a variable by using three quotes:"
   ]
  },
  {
   "cell_type": "code",
   "execution_count": 8,
   "id": "7023fa16",
   "metadata": {},
   "outputs": [
    {
     "name": "stdout",
     "output_type": "stream",
     "text": [
      "\"hello guys I'm Hema \n",
      " a 2022 computer science \n",
      " graduate from jits\n"
     ]
    }
   ],
   "source": [
    "a=\"\"\"\"hello guys I'm Hema \n",
    " a 2022 computer science \n",
    " graduate from jits\"\"\"\n",
    "\n",
    "print(a)"
   ]
  },
  {
   "cell_type": "markdown",
   "id": "91d66f6a",
   "metadata": {},
   "source": [
    "# strings are arrays"
   ]
  },
  {
   "cell_type": "markdown",
   "id": "977915ef",
   "metadata": {},
   "source": [
    "Like many other popular programming languages, strings in Python are arrays of bytes representing unicode characters.\n",
    "\n",
    "However, Python does not have a character data type, a single character is simply a string with a length of 1.\n",
    "\n",
    "Square brackets can be used to access elements of the string."
   ]
  },
  {
   "cell_type": "code",
   "execution_count": 9,
   "id": "49626910",
   "metadata": {},
   "outputs": [
    {
     "name": "stdout",
     "output_type": "stream",
     "text": [
      ",\n"
     ]
    }
   ],
   "source": [
    "a = \"Hello, World!\"\n",
    "print(a[5])"
   ]
  },
  {
   "cell_type": "markdown",
   "id": "cbe7835c",
   "metadata": {},
   "source": [
    "# looping through a string"
   ]
  },
  {
   "cell_type": "markdown",
   "id": "7eea6648",
   "metadata": {},
   "source": [
    "Since strings are arrays, we can loop through the characters in a string, with a for loop."
   ]
  },
  {
   "cell_type": "code",
   "execution_count": 10,
   "id": "424d4042",
   "metadata": {},
   "outputs": [
    {
     "name": "stdout",
     "output_type": "stream",
     "text": [
      "A\n",
      "p\n",
      "p\n",
      "l\n",
      "e\n"
     ]
    }
   ],
   "source": [
    "for x in \"Apple\":\n",
    "  print(x)"
   ]
  },
  {
   "cell_type": "code",
   "execution_count": 12,
   "id": "00742eee",
   "metadata": {},
   "outputs": [
    {
     "name": "stdout",
     "output_type": "stream",
     "text": [
      "h\n",
      "e\n",
      "l\n",
      "l\n",
      "o\n"
     ]
    }
   ],
   "source": [
    "for x in 'hello':\n",
    "  print(x)"
   ]
  },
  {
   "cell_type": "markdown",
   "id": "3987d2f4",
   "metadata": {},
   "source": [
    "# length of a string"
   ]
  },
  {
   "cell_type": "markdown",
   "id": "02cd1177",
   "metadata": {},
   "source": [
    "To get the length of a string, use the len() function."
   ]
  },
  {
   "cell_type": "code",
   "execution_count": 14,
   "id": "06f6aabb",
   "metadata": {},
   "outputs": [
    {
     "name": "stdout",
     "output_type": "stream",
     "text": [
      "13\n"
     ]
    }
   ],
   "source": [
    "a = \"Hello, World!\"\n",
    "print(len(a))"
   ]
  },
  {
   "cell_type": "markdown",
   "id": "312cff8d",
   "metadata": {},
   "source": [
    "# checking the string"
   ]
  },
  {
   "cell_type": "markdown",
   "id": "8dce7256",
   "metadata": {},
   "source": [
    "To check if a certain phrase or character is present in a string, we can use the keyword in."
   ]
  },
  {
   "cell_type": "code",
   "execution_count": 15,
   "id": "c34a5f96",
   "metadata": {},
   "outputs": [
    {
     "name": "stdout",
     "output_type": "stream",
     "text": [
      "True\n"
     ]
    }
   ],
   "source": [
    "txt = \"Time is precious!\"\n",
    "print(\"is\" in txt)"
   ]
  },
  {
   "cell_type": "code",
   "execution_count": 16,
   "id": "7e0d55e6",
   "metadata": {},
   "outputs": [
    {
     "name": "stdout",
     "output_type": "stream",
     "text": [
      "False\n"
     ]
    }
   ],
   "source": [
    "txt = \"Time is precious!\"\n",
    "print(\"a\" in txt)"
   ]
  },
  {
   "cell_type": "code",
   "execution_count": 19,
   "id": "aa82b242",
   "metadata": {},
   "outputs": [
    {
     "name": "stdout",
     "output_type": "stream",
     "text": [
      "yes\n"
     ]
    }
   ],
   "source": [
    "txt = \"Time is precious!\"\n",
    "if \"is\" in txt:\n",
    " print('yes')"
   ]
  },
  {
   "cell_type": "code",
   "execution_count": 20,
   "id": "17215d60",
   "metadata": {},
   "outputs": [
    {
     "name": "stdout",
     "output_type": "stream",
     "text": [
      "yes\n"
     ]
    }
   ],
   "source": [
    "txt = \"Time is precious!\"\n",
    "if \"a\" not in txt:\n",
    " print('yes')"
   ]
  },
  {
   "cell_type": "markdown",
   "id": "063f6fab",
   "metadata": {},
   "source": [
    "# slicing string"
   ]
  },
  {
   "cell_type": "markdown",
   "id": "9c1fdda2",
   "metadata": {},
   "source": [
    "You can return a range of characters by using the slice syntax.\n",
    "\n",
    "Specify the start index and the end index, separated by a colon, to return a part of the string."
   ]
  },
  {
   "cell_type": "code",
   "execution_count": 21,
   "id": "bc6e0e64",
   "metadata": {},
   "outputs": [
    {
     "name": "stdout",
     "output_type": "stream",
     "text": [
      "ello\n"
     ]
    }
   ],
   "source": [
    "a = \"Hello, World!\"\n",
    "print(a[1:5])"
   ]
  },
  {
   "cell_type": "markdown",
   "id": "7012479d",
   "metadata": {},
   "source": [
    "slicing from start"
   ]
  },
  {
   "cell_type": "markdown",
   "id": "00477ee3",
   "metadata": {},
   "source": [
    "By leaving out the start index, the range will start at the first character:"
   ]
  },
  {
   "cell_type": "code",
   "execution_count": 22,
   "id": "75e4f722",
   "metadata": {},
   "outputs": [
    {
     "name": "stdout",
     "output_type": "stream",
     "text": [
      "Hello\n"
     ]
    }
   ],
   "source": [
    "a = \"Hello, World!\"\n",
    "print(a[:5])"
   ]
  },
  {
   "cell_type": "markdown",
   "id": "34cdc893",
   "metadata": {},
   "source": [
    "slicing to the end"
   ]
  },
  {
   "cell_type": "markdown",
   "id": "d034d7c6",
   "metadata": {},
   "source": [
    "By leaving out the end index, the range will go to the end:"
   ]
  },
  {
   "cell_type": "code",
   "execution_count": 23,
   "id": "8ee4727f",
   "metadata": {},
   "outputs": [
    {
     "name": "stdout",
     "output_type": "stream",
     "text": [
      "ello, World!\n"
     ]
    }
   ],
   "source": [
    "a = \"Hello, World!\"\n",
    "print(a[1:])"
   ]
  },
  {
   "cell_type": "markdown",
   "id": "a5470a93",
   "metadata": {},
   "source": [
    "negative indexing"
   ]
  },
  {
   "cell_type": "markdown",
   "id": "018dac7e",
   "metadata": {},
   "source": [
    "Use negative indexes to start the slice from the end of the string:"
   ]
  },
  {
   "cell_type": "code",
   "execution_count": 1,
   "id": "375bdcbf",
   "metadata": {},
   "outputs": [
    {
     "name": "stdout",
     "output_type": "stream",
     "text": [
      "World\n"
     ]
    }
   ],
   "source": [
    "a = \"Hello, World!\"\n",
    "print(a[-6:-1])"
   ]
  },
  {
   "cell_type": "markdown",
   "id": "2225a27c",
   "metadata": {},
   "source": [
    "# modify strings"
   ]
  },
  {
   "cell_type": "markdown",
   "id": "d0776340",
   "metadata": {},
   "source": [
    "Python has a set of built-in methods that you can use on strings.\n",
    "\n"
   ]
  },
  {
   "cell_type": "markdown",
   "id": "54ef1f8d",
   "metadata": {},
   "source": [
    "upper case"
   ]
  },
  {
   "cell_type": "code",
   "execution_count": 27,
   "id": "67e4088d",
   "metadata": {},
   "outputs": [
    {
     "name": "stdout",
     "output_type": "stream",
     "text": [
      "HELLO, WORLD!\n"
     ]
    }
   ],
   "source": [
    "a = \"Hello, World!\"\n",
    "print(a.upper())"
   ]
  },
  {
   "cell_type": "markdown",
   "id": "d726f9c4",
   "metadata": {},
   "source": [
    "lower case"
   ]
  },
  {
   "cell_type": "code",
   "execution_count": 28,
   "id": "f0777998",
   "metadata": {},
   "outputs": [
    {
     "name": "stdout",
     "output_type": "stream",
     "text": [
      "hello, world!\n"
     ]
    }
   ],
   "source": [
    "a = \"Hello, World!\"\n",
    "print(a.lower())"
   ]
  },
  {
   "cell_type": "markdown",
   "id": "3c34047e",
   "metadata": {},
   "source": [
    "removing whitespaces"
   ]
  },
  {
   "cell_type": "markdown",
   "id": "528c91fd",
   "metadata": {},
   "source": [
    "Whitespace is the space before and/or after the actual text, and very often you want to remove this space."
   ]
  },
  {
   "cell_type": "code",
   "execution_count": 29,
   "id": "1bf725f4",
   "metadata": {},
   "outputs": [
    {
     "name": "stdout",
     "output_type": "stream",
     "text": [
      "Hello, World!\n"
     ]
    }
   ],
   "source": [
    "a = \" Hello, World! \"\n",
    "print(a.strip())"
   ]
  },
  {
   "cell_type": "markdown",
   "id": "f598669a",
   "metadata": {},
   "source": [
    "# replace the string"
   ]
  },
  {
   "cell_type": "code",
   "execution_count": 30,
   "id": "53bbfdb2",
   "metadata": {},
   "outputs": [
    {
     "name": "stdout",
     "output_type": "stream",
     "text": [
      "Hemmo, Wormd!\n"
     ]
    }
   ],
   "source": [
    "a = \"Hello, World!\"\n",
    "print(a.replace(\"l\", \"m\"))"
   ]
  },
  {
   "cell_type": "markdown",
   "id": "e6b80846",
   "metadata": {},
   "source": [
    "split the string"
   ]
  },
  {
   "cell_type": "markdown",
   "id": "5d9de896",
   "metadata": {},
   "source": [
    "The split() method returns a list where the text between the specified separator becomes the list items."
   ]
  },
  {
   "cell_type": "code",
   "execution_count": 31,
   "id": "fe973914",
   "metadata": {},
   "outputs": [
    {
     "name": "stdout",
     "output_type": "stream",
     "text": [
      "['H', 'llo, World!']\n"
     ]
    }
   ],
   "source": [
    "a = \"Hello, World!\"\n",
    "print(a.split(\"e\"))"
   ]
  },
  {
   "cell_type": "markdown",
   "id": "c24b9f9c",
   "metadata": {},
   "source": [
    "string concatenation"
   ]
  },
  {
   "cell_type": "markdown",
   "id": "fad24504",
   "metadata": {},
   "source": [
    "To concatenate, or combine, two strings you can use the + operator."
   ]
  },
  {
   "cell_type": "code",
   "execution_count": 32,
   "id": "c7c743a4",
   "metadata": {},
   "outputs": [
    {
     "name": "stdout",
     "output_type": "stream",
     "text": [
      "Hema World\n"
     ]
    }
   ],
   "source": [
    "a = \"Hema\"\n",
    "b = \"World\"\n",
    "c = a + \" \" + b\n",
    "print(c)"
   ]
  },
  {
   "cell_type": "markdown",
   "id": "de39854f",
   "metadata": {},
   "source": [
    "string format"
   ]
  },
  {
   "cell_type": "markdown",
   "id": "fddd2b1c",
   "metadata": {},
   "source": [
    "As we learned in the Python Variables chapter, we cannot combine strings and numbers like this:"
   ]
  },
  {
   "cell_type": "code",
   "execution_count": 33,
   "id": "b3cfd686",
   "metadata": {},
   "outputs": [
    {
     "name": "stdout",
     "output_type": "stream",
     "text": [
      "My name is Hema, and I am 22\n"
     ]
    }
   ],
   "source": [
    "age = 22\n",
    "txt = \"My name is Hema, and I am {}\"\n",
    "print(txt.format(age))"
   ]
  },
  {
   "cell_type": "code",
   "execution_count": 34,
   "id": "51198f9e",
   "metadata": {},
   "outputs": [
    {
     "name": "stdout",
     "output_type": "stream",
     "text": [
      "The value is : 764\n"
     ]
    }
   ],
   "source": [
    "print(\"The value is : {:o}\".format(500))"
   ]
  },
  {
   "cell_type": "code",
   "execution_count": 37,
   "id": "22d3811b",
   "metadata": {},
   "outputs": [
    {
     "name": "stdout",
     "output_type": "stream",
     "text": [
      "I want to pay 55 dollars for 5 pieces of item cake.\n"
     ]
    }
   ],
   "source": [
    "quantity = 5\n",
    "item = \"cake\"\n",
    "price = 55\n",
    "myorder = \"I want to pay {2} dollars for {0} pieces of item {1}.\"\n",
    "print(myorder.format(quantity, item, price))"
   ]
  },
  {
   "cell_type": "markdown",
   "id": "5368e46b",
   "metadata": {},
   "source": [
    "# escape characters"
   ]
  },
  {
   "cell_type": "markdown",
   "id": "5f9d4d1d",
   "metadata": {},
   "source": [
    "To insert characters that are illegal in a string, use an escape character.\n",
    "\n",
    "An escape character is a backslash \\ followed by the character you want to insert.\n",
    "\n",
    "An example of an illegal character is a double quote inside a string that is surrounded by double quotes:"
   ]
  },
  {
   "cell_type": "code",
   "execution_count": 40,
   "id": "217f29ab",
   "metadata": {},
   "outputs": [
    {
     "name": "stdout",
     "output_type": "stream",
     "text": [
      "I am \"Hema\" from south.\n"
     ]
    }
   ],
   "source": [
    "txt = \"I am \\\"Hema\\\" from south.\"\n",
    "print(txt)"
   ]
  },
  {
   "cell_type": "code",
   "execution_count": 2,
   "id": "98630f9e",
   "metadata": {},
   "outputs": [
    {
     "name": "stdout",
     "output_type": "stream",
     "text": [
      "It's alright.\n"
     ]
    }
   ],
   "source": [
    "txt = 'It\\'s alright.'\n",
    "print(txt) \n"
   ]
  },
  {
   "cell_type": "code",
   "execution_count": 3,
   "id": "a2b9f88b",
   "metadata": {},
   "outputs": [
    {
     "name": "stdout",
     "output_type": "stream",
     "text": [
      "This will insert one \\ (backslash).\n"
     ]
    }
   ],
   "source": [
    "txt = \"This will insert one \\\\ (backslash).\"\n",
    "print(txt) \n"
   ]
  },
  {
   "cell_type": "code",
   "execution_count": 4,
   "id": "c0d72e77",
   "metadata": {},
   "outputs": [
    {
     "name": "stdout",
     "output_type": "stream",
     "text": [
      "Hello\n",
      "World!\n"
     ]
    }
   ],
   "source": [
    "txt = \"Hello\\nWorld!\"\n",
    "print(txt) \n"
   ]
  },
  {
   "cell_type": "code",
   "execution_count": 5,
   "id": "95fb7d5c",
   "metadata": {},
   "outputs": [
    {
     "name": "stdout",
     "output_type": "stream",
     "text": [
      "Hello\r",
      "World!\n"
     ]
    }
   ],
   "source": [
    "txt = \"Hello\\rWorld!\"\n",
    "print(txt) \n"
   ]
  },
  {
   "cell_type": "code",
   "execution_count": 6,
   "id": "399e3542",
   "metadata": {},
   "outputs": [
    {
     "name": "stdout",
     "output_type": "stream",
     "text": [
      "Hello\tWorld!\n"
     ]
    }
   ],
   "source": [
    "txt = \"Hello\\tWorld!\"\n",
    "print(txt) "
   ]
  },
  {
   "cell_type": "code",
   "execution_count": 7,
   "id": "3971725c",
   "metadata": {},
   "outputs": [
    {
     "name": "stdout",
     "output_type": "stream",
     "text": [
      "Hello\n"
     ]
    }
   ],
   "source": [
    "#A backslash followed by three integers will result in a octal value:\n",
    "txt = \"\\110\\145\\154\\154\\157\"\n",
    "print(txt) "
   ]
  },
  {
   "cell_type": "code",
   "execution_count": null,
   "id": "ea74a2a5",
   "metadata": {},
   "outputs": [],
   "source": []
  }
 ],
 "metadata": {
  "kernelspec": {
   "display_name": "Python 3 (ipykernel)",
   "language": "python",
   "name": "python3"
  },
  "language_info": {
   "codemirror_mode": {
    "name": "ipython",
    "version": 3
   },
   "file_extension": ".py",
   "mimetype": "text/x-python",
   "name": "python",
   "nbconvert_exporter": "python",
   "pygments_lexer": "ipython3",
   "version": "3.9.13"
  }
 },
 "nbformat": 4,
 "nbformat_minor": 5
}
