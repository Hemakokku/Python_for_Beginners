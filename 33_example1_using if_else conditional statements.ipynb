{
 "cells": [
  {
   "cell_type": "code",
   "execution_count": 7,
   "id": "9d2bd3ae",
   "metadata": {},
   "outputs": [
    {
     "name": "stdout",
     "output_type": "stream",
     "text": [
      "Welcome to Water park\n",
      "Enter you height in centi meters: 135\n",
      "You Are Eligible To Enter \n",
      "enter your age? : 15\n",
      "Sorry you can't Enter\n"
     ]
    }
   ],
   "source": [
    "print (\"Welcome to Water park\")\n",
    "height = int(input(\"Enter you height in centi meters: \"))\n",
    "if height>=120:\n",
    "  print(\"You Are Eligible To Enter \")\n",
    "\n",
    "  age =(int(input(\"enter your age? : \")))\n",
    "\n",
    "if age<=10:\n",
    " print(\"You need to pay ₹ 50 \")\n",
    "\n",
    "elif age<=12:\n",
    " print(\"You need to pay ₹70\" )\n",
    "elif age >=18:\n",
    " print(\"You need to pay ₹100 \")\n",
    "\n",
    "else:\n",
    " print(\"Sorry you can't Enter\")"
   ]
  },
  {
   "cell_type": "code",
   "execution_count": null,
   "id": "c170f81f",
   "metadata": {},
   "outputs": [],
   "source": []
  }
 ],
 "metadata": {
  "kernelspec": {
   "display_name": "Python 3 (ipykernel)",
   "language": "python",
   "name": "python3"
  },
  "language_info": {
   "codemirror_mode": {
    "name": "ipython",
    "version": 3
   },
   "file_extension": ".py",
   "mimetype": "text/x-python",
   "name": "python",
   "nbconvert_exporter": "python",
   "pygments_lexer": "ipython3",
   "version": "3.9.13"
  }
 },
 "nbformat": 4,
 "nbformat_minor": 5
}
