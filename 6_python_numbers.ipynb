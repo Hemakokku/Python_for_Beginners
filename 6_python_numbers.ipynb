{
 "cells": [
  {
   "cell_type": "markdown",
   "id": "2f0588af",
   "metadata": {},
   "source": [
    "# python numbers\n"
   ]
  },
  {
   "cell_type": "markdown",
   "id": "d9072c06",
   "metadata": {},
   "source": [
    "There are three numeric types in Python:\n",
    "\n",
    "int\n",
    "\n",
    "float\n",
    "\n",
    "complex\n",
    "\n",
    "\n",
    "Variables of numeric types are created when you assign a value to them:"
   ]
  },
  {
   "cell_type": "markdown",
   "id": "4dd06bef",
   "metadata": {},
   "source": [
    "# int"
   ]
  },
  {
   "cell_type": "markdown",
   "id": "1117ed4f",
   "metadata": {},
   "source": [
    "Int, or integer, is a whole number, positive or negative, without decimals, of unlimited length."
   ]
  },
  {
   "cell_type": "code",
   "execution_count": 1,
   "id": "3c0c78cf",
   "metadata": {},
   "outputs": [
    {
     "name": "stdout",
     "output_type": "stream",
     "text": [
      "<class 'int'>\n",
      "<class 'int'>\n",
      "<class 'int'>\n"
     ]
    }
   ],
   "source": [
    "x = 5\n",
    "y = 1000000000000000\n",
    "z = -7\n",
    "\n",
    "print(type(x))\n",
    "print(type(y))\n",
    "print(type(z))"
   ]
  },
  {
   "cell_type": "markdown",
   "id": "1b4cd57c",
   "metadata": {},
   "source": [
    "# float"
   ]
  },
  {
   "cell_type": "markdown",
   "id": "2640d9a4",
   "metadata": {},
   "source": [
    "Float, or \"floating point number\" is a number, positive or negative, containing one or more decimals."
   ]
  },
  {
   "cell_type": "code",
   "execution_count": 2,
   "id": "66c7e744",
   "metadata": {},
   "outputs": [
    {
     "name": "stdout",
     "output_type": "stream",
     "text": [
      "<class 'float'>\n",
      "<class 'float'>\n",
      "<class 'float'>\n"
     ]
    }
   ],
   "source": [
    "x = 5.5\n",
    "y = 6.666\n",
    "z = -5.6\n",
    "\n",
    "print(type(x))\n",
    "print(type(y))\n",
    "print(type(z))"
   ]
  },
  {
   "cell_type": "markdown",
   "id": "8e6656ad",
   "metadata": {},
   "source": [
    "# complex"
   ]
  },
  {
   "cell_type": "markdown",
   "id": "4ff50818",
   "metadata": {},
   "source": [
    "Complex numbers are written with a \"j\" as the imaginary part:"
   ]
  },
  {
   "cell_type": "code",
   "execution_count": 3,
   "id": "233d8488",
   "metadata": {},
   "outputs": [
    {
     "name": "stdout",
     "output_type": "stream",
     "text": [
      "<class 'complex'>\n",
      "<class 'complex'>\n",
      "<class 'complex'>\n"
     ]
    }
   ],
   "source": [
    "x = 5+5j\n",
    "y = 10j\n",
    "z = -11j\n",
    "\n",
    "print(type(x))\n",
    "print(type(y))\n",
    "print(type(z))"
   ]
  },
  {
   "cell_type": "markdown",
   "id": "cb140970",
   "metadata": {},
   "source": [
    "# type conversion"
   ]
  },
  {
   "cell_type": "markdown",
   "id": "3131a590",
   "metadata": {},
   "source": [
    "You can convert from one type to another with the int(), float(), and complex() methods:"
   ]
  },
  {
   "cell_type": "code",
   "execution_count": 5,
   "id": "0a00d306",
   "metadata": {},
   "outputs": [
    {
     "name": "stdout",
     "output_type": "stream",
     "text": [
      "10.0\n",
      "1\n",
      "(10+0j)\n",
      "<class 'float'>\n",
      "<class 'int'>\n",
      "<class 'complex'>\n"
     ]
    }
   ],
   "source": [
    "x = 10   # int\n",
    "y = 1.1  # float\n",
    "z = 6j   # complex\n",
    "\n",
    "#convert from int to float:\n",
    "a = float(x)\n",
    "\n",
    "#convert from float to int:\n",
    "b = int(y)\n",
    "\n",
    "#convert from int to complex:\n",
    "c = complex(x)\n",
    "\n",
    "print(a)\n",
    "print(b)\n",
    "print(c)\n",
    "\n",
    "print(type(a))\n",
    "print(type(b))\n",
    "print(type(c))"
   ]
  },
  {
   "cell_type": "code",
   "execution_count": 6,
   "id": "beb1e825",
   "metadata": {},
   "outputs": [
    {
     "name": "stdout",
     "output_type": "stream",
     "text": [
      "ASCII value of \"H\" is: 72\n"
     ]
    }
   ],
   "source": [
    "print('ASCII value of \"H\" is: ' + str(ord('H')))"
   ]
  },
  {
   "cell_type": "code",
   "execution_count": 7,
   "id": "2c176e0d",
   "metadata": {},
   "outputs": [
    {
     "name": "stdout",
     "output_type": "stream",
     "text": [
      "Binary value of 64 is: 0b1000000\n"
     ]
    }
   ],
   "source": [
    "print('Binary value of 64 is: ' + str(bin(64)))"
   ]
  },
  {
   "cell_type": "markdown",
   "id": "0eaad42e",
   "metadata": {},
   "source": [
    "# Random Number\n",
    "Python does not have a random() function to make a random number, but Python has a built-in module called random that can be used to make random numbers:"
   ]
  },
  {
   "cell_type": "code",
   "execution_count": 1,
   "id": "945d1c9e",
   "metadata": {},
   "outputs": [
    {
     "name": "stdout",
     "output_type": "stream",
     "text": [
      "7\n"
     ]
    }
   ],
   "source": [
    "import random\n",
    "\n",
    "print(random.randrange(1, 15))"
   ]
  },
  {
   "cell_type": "code",
   "execution_count": null,
   "id": "6f5edb7f",
   "metadata": {},
   "outputs": [],
   "source": []
  }
 ],
 "metadata": {
  "kernelspec": {
   "display_name": "Python 3 (ipykernel)",
   "language": "python",
   "name": "python3"
  },
  "language_info": {
   "codemirror_mode": {
    "name": "ipython",
    "version": 3
   },
   "file_extension": ".py",
   "mimetype": "text/x-python",
   "name": "python",
   "nbconvert_exporter": "python",
   "pygments_lexer": "ipython3",
   "version": "3.9.13"
  }
 },
 "nbformat": 4,
 "nbformat_minor": 5
}
