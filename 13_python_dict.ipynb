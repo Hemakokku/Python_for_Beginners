{
 "cells": [
  {
   "cell_type": "markdown",
   "id": "f9658f44",
   "metadata": {},
   "source": [
    "# dictionaries"
   ]
  },
  {
   "cell_type": "markdown",
   "id": "50582a6e",
   "metadata": {},
   "source": [
    "Dictionaries are used to store data values in key:value pairs.\n",
    "\n",
    "A dictionary is a collection which is ordered*, changeable and do not allow duplicates."
   ]
  },
  {
   "cell_type": "markdown",
   "id": "90b589c0",
   "metadata": {},
   "source": [
    "# Dictionary Items\n",
    "Dictionary items are ordered, changeable, and does not allow duplicates.\n",
    "\n",
    "Dictionary items are presented in key:value pairs, and can be referred to by using the key name."
   ]
  },
  {
   "cell_type": "markdown",
   "id": "945438e2",
   "metadata": {},
   "source": [
    "# Ordered or Unordered?\n",
    "\n",
    "\n",
    "When we say that dictionaries are ordered, it means that the items have a defined order, and that order will not change.\n",
    "\n",
    "Unordered means that the items does not have a defined order, you cannot refer to an item by using an index.\n",
    "\n"
   ]
  },
  {
   "cell_type": "markdown",
   "id": "5b80cdbe",
   "metadata": {},
   "source": [
    "# Changeable\n",
    "Dictionaries are changeable, meaning that we can change, add or remove items after the dictionary has been created."
   ]
  },
  {
   "cell_type": "markdown",
   "id": "80968d40",
   "metadata": {},
   "source": [
    "# Duplicates Not Allowed\n",
    "Dictionaries cannot have two items with the same key:"
   ]
  },
  {
   "cell_type": "code",
   "execution_count": 2,
   "id": "0ec77fc1",
   "metadata": {},
   "outputs": [
    {
     "name": "stdout",
     "output_type": "stream",
     "text": [
      "{'name': 'Hema', 'id': '555', 'salary': 45000}\n"
     ]
    }
   ],
   "source": [
    "dict = {\n",
    "  \"name\": \"Hema\",\n",
    "  \"id\": \"555\",\n",
    "  \"salary\": 45000\n",
    "}\n",
    "print(dict)"
   ]
  },
  {
   "cell_type": "markdown",
   "id": "c11768aa",
   "metadata": {},
   "source": [
    "# Dictionary Items"
   ]
  },
  {
   "cell_type": "code",
   "execution_count": 4,
   "id": "642407b8",
   "metadata": {},
   "outputs": [
    {
     "name": "stdout",
     "output_type": "stream",
     "text": [
      "Hema\n"
     ]
    }
   ],
   "source": [
    "dict = {\n",
    "  \"name\": \"Hema\",\n",
    "  \"id\": \"555\",\n",
    "  \"salary\": 45000\n",
    "}\n",
    "print(dict[\"name\"])"
   ]
  },
  {
   "cell_type": "markdown",
   "id": "7348f6f9",
   "metadata": {},
   "source": [
    "# Duplicates Not Allowed"
   ]
  },
  {
   "cell_type": "code",
   "execution_count": 5,
   "id": "33ab1228",
   "metadata": {},
   "outputs": [
    {
     "ename": "SyntaxError",
     "evalue": "invalid syntax (3993009062.py, line 5)",
     "output_type": "error",
     "traceback": [
      "\u001b[1;36m  File \u001b[1;32m\"C:\\Users\\Hema Kokku\\AppData\\Local\\Temp\\ipykernel_22184\\3993009062.py\"\u001b[1;36m, line \u001b[1;32m5\u001b[0m\n\u001b[1;33m    \"salary\":5555\u001b[0m\n\u001b[1;37m    ^\u001b[0m\n\u001b[1;31mSyntaxError\u001b[0m\u001b[1;31m:\u001b[0m invalid syntax\n"
     ]
    }
   ],
   "source": [
    "dict = {\n",
    "  \"name\": \"Hema\",\n",
    "  \"id\": \"555\",\n",
    "  \"salary\": 45000\n",
    "  \"salary\":5555\n",
    "}\n",
    "print(dict)"
   ]
  },
  {
   "cell_type": "markdown",
   "id": "80f17a84",
   "metadata": {},
   "source": [
    "# Dictionary Length"
   ]
  },
  {
   "cell_type": "markdown",
   "id": "0188ad8d",
   "metadata": {},
   "source": [
    "To determine how many items a dictionary has, use the len() function:"
   ]
  },
  {
   "cell_type": "code",
   "execution_count": 6,
   "id": "5677cb31",
   "metadata": {},
   "outputs": [
    {
     "name": "stdout",
     "output_type": "stream",
     "text": [
      "3\n"
     ]
    }
   ],
   "source": [
    "dict = {\n",
    "  \"name\": \"Hema\",\n",
    "  \"id\": \"555\",\n",
    "  \"salary\": 45000\n",
    "}\n",
    "print(len(dict))"
   ]
  },
  {
   "cell_type": "markdown",
   "id": "74519837",
   "metadata": {},
   "source": [
    "# Data Types"
   ]
  },
  {
   "cell_type": "markdown",
   "id": "de6f84b7",
   "metadata": {},
   "source": [
    "The values in dictionary items can be of any data type:"
   ]
  },
  {
   "cell_type": "code",
   "execution_count": 7,
   "id": "661cf3c3",
   "metadata": {},
   "outputs": [
    {
     "name": "stdout",
     "output_type": "stream",
     "text": [
      "{'name': 'Hema', 'id': '555', 'salary': 45000}\n"
     ]
    }
   ],
   "source": [
    "dict = {\n",
    "  \"name\": \"Hema\",\n",
    "  \"id\": \"555\",\n",
    "  \"salary\": 45000\n",
    "}\n",
    "print(dict)"
   ]
  },
  {
   "cell_type": "markdown",
   "id": "3d9f047c",
   "metadata": {},
   "source": [
    "# type()"
   ]
  },
  {
   "cell_type": "markdown",
   "id": "980802a9",
   "metadata": {},
   "source": [
    "From Python's perspective, dictionaries are defined as objects with the data type 'dict':"
   ]
  },
  {
   "cell_type": "code",
   "execution_count": 8,
   "id": "71361d22",
   "metadata": {},
   "outputs": [
    {
     "name": "stdout",
     "output_type": "stream",
     "text": [
      "<class 'dict'>\n"
     ]
    }
   ],
   "source": [
    "dict = {\n",
    "  \"name\": \"Hema\",\n",
    "  \"id\": \"555\",\n",
    "  \"salary\": 45000\n",
    "}\n",
    "print(type(dict))"
   ]
  },
  {
   "cell_type": "markdown",
   "id": "cc1d961b",
   "metadata": {},
   "source": [
    "# The dict() Constructor\n",
    "It is also possible to use the dict() constructor to make a dictionary."
   ]
  },
  {
   "cell_type": "markdown",
   "id": "b47ff88a",
   "metadata": {},
   "source": [
    "# Python Collections (Arrays)\n",
    "There are four collection data types in the Python programming language:\n",
    "\n",
    "List is a collection which is ordered and changeable. Allows duplicate members.\n",
    "Tuple is a collection which is ordered and unchangeable. Allows duplicate members.\n",
    "Set is a collection which is unordered, unchangeable*, and unindexed. No duplicate members.\n",
    "Dictionary is a collection which is ordered** and changeable. No duplicate members."
   ]
  },
  {
   "cell_type": "markdown",
   "id": "4154dbd6",
   "metadata": {},
   "source": [
    "# Accessing Items"
   ]
  },
  {
   "cell_type": "markdown",
   "id": "090ae172",
   "metadata": {},
   "source": [
    "You can access the items of a dictionary by referring to its key name, inside square brackets:"
   ]
  },
  {
   "cell_type": "code",
   "execution_count": 12,
   "id": "23c60e66",
   "metadata": {},
   "outputs": [
    {
     "name": "stdout",
     "output_type": "stream",
     "text": [
      "Hema\n"
     ]
    }
   ],
   "source": [
    "dict = {\n",
    "  \"name\": \"Hema\",\n",
    "  \"id\": \"555\",\n",
    "  \"salary\": 45000\n",
    "}\n",
    "x=dict[\"name\"]\n",
    "print(x)"
   ]
  },
  {
   "cell_type": "markdown",
   "id": "5b06f3b0",
   "metadata": {},
   "source": [
    "get()"
   ]
  },
  {
   "cell_type": "markdown",
   "id": "034325a9",
   "metadata": {},
   "source": [
    "There is also a method called get() that will give you the same result:"
   ]
  },
  {
   "cell_type": "code",
   "execution_count": 13,
   "id": "832f699d",
   "metadata": {},
   "outputs": [
    {
     "name": "stdout",
     "output_type": "stream",
     "text": [
      "555\n"
     ]
    }
   ],
   "source": [
    "dict = {\n",
    "  \"name\": \"Hema\",\n",
    "  \"id\": \"555\",\n",
    "  \"salary\": 45000\n",
    "}\n",
    "x = dict.get(\"id\")\n",
    "print(x)\n"
   ]
  },
  {
   "cell_type": "markdown",
   "id": "cc43871f",
   "metadata": {},
   "source": [
    "keys"
   ]
  },
  {
   "cell_type": "markdown",
   "id": "a23c35be",
   "metadata": {},
   "source": [
    "The keys() method will return a list of all the keys in the dictionary."
   ]
  },
  {
   "cell_type": "code",
   "execution_count": 14,
   "id": "ed1a221f",
   "metadata": {},
   "outputs": [
    {
     "name": "stdout",
     "output_type": "stream",
     "text": [
      "dict_keys(['name', 'id', 'salary'])\n"
     ]
    }
   ],
   "source": [
    "dict = {\n",
    "  \"name\": \"Hema\",\n",
    "  \"id\": \"555\",\n",
    "  \"salary\": 45000\n",
    "}\n",
    "x = dict.keys()\n",
    "print(x)\n"
   ]
  },
  {
   "cell_type": "markdown",
   "id": "7d51253c",
   "metadata": {},
   "source": [
    " get values()"
   ]
  },
  {
   "cell_type": "markdown",
   "id": "ab821622",
   "metadata": {},
   "source": [
    "The values() method will return a list of all the values in the dictionary."
   ]
  },
  {
   "cell_type": "code",
   "execution_count": 15,
   "id": "f947c894",
   "metadata": {},
   "outputs": [
    {
     "name": "stdout",
     "output_type": "stream",
     "text": [
      "dict_values(['Hema', '555', 45000])\n"
     ]
    }
   ],
   "source": [
    "dict = {\n",
    "  \"name\": \"Hema\",\n",
    "  \"id\": \"555\",\n",
    "  \"salary\": 45000\n",
    "}\n",
    "x = dict.values()\n",
    "print(x)\n"
   ]
  },
  {
   "cell_type": "markdown",
   "id": "60dda40d",
   "metadata": {},
   "source": [
    "get items()"
   ]
  },
  {
   "cell_type": "markdown",
   "id": "d92bb8cc",
   "metadata": {},
   "source": [
    "The items() method will return each item in a dictionary, as tuples in a list."
   ]
  },
  {
   "cell_type": "code",
   "execution_count": 16,
   "id": "8491a701",
   "metadata": {},
   "outputs": [
    {
     "name": "stdout",
     "output_type": "stream",
     "text": [
      "dict_items([('name', 'Hema'), ('id', '555'), ('salary', 45000)])\n"
     ]
    }
   ],
   "source": [
    "dict = {\n",
    "  \"name\": \"Hema\",\n",
    "  \"id\": \"555\",\n",
    "  \"salary\": 45000\n",
    "}\n",
    "x = dict.items()\n",
    "print(x)"
   ]
  },
  {
   "cell_type": "markdown",
   "id": "e4d5d66c",
   "metadata": {},
   "source": [
    "# Check if Key Exists"
   ]
  },
  {
   "cell_type": "markdown",
   "id": "97476ac2",
   "metadata": {},
   "source": [
    "To determine if a specified key is present in a dictionary use the in keyword:"
   ]
  },
  {
   "cell_type": "code",
   "execution_count": 19,
   "id": "9d672d37",
   "metadata": {},
   "outputs": [
    {
     "name": "stdout",
     "output_type": "stream",
     "text": [
      "yes\n"
     ]
    }
   ],
   "source": [
    "dict = {\n",
    "  \"name\": \"Hema\",\n",
    "  \"id\": \"555\",\n",
    "  \"salary\": 45000\n",
    "}\n",
    "if \"name\" in dict:\n",
    " print(\"yes\")"
   ]
  },
  {
   "cell_type": "markdown",
   "id": "26df1a96",
   "metadata": {},
   "source": [
    "# Change Values"
   ]
  },
  {
   "cell_type": "markdown",
   "id": "4a47a8b6",
   "metadata": {},
   "source": [
    "You can change the value of a specific item by referring to its key name:"
   ]
  },
  {
   "cell_type": "code",
   "execution_count": 20,
   "id": "4e5c898e",
   "metadata": {},
   "outputs": [
    {
     "name": "stdout",
     "output_type": "stream",
     "text": [
      "{'name': 'Hema', 'id': 55555, 'salary': 45000}\n"
     ]
    }
   ],
   "source": [
    "dict = {\n",
    "  \"name\": \"Hema\",\n",
    "  \"id\": \"555\",\n",
    "  \"salary\": 45000\n",
    "}\n",
    "dict[\"id\"]=55555\n",
    "print(dict)"
   ]
  },
  {
   "cell_type": "markdown",
   "id": "71ede8a3",
   "metadata": {},
   "source": [
    "# Update Dictionary"
   ]
  },
  {
   "cell_type": "markdown",
   "id": "a6281414",
   "metadata": {},
   "source": [
    "The update() method will update the dictionary with the items from the given argument.\n",
    "\n",
    "The argument must be a dictionary, or an iterable object with key:value pairs."
   ]
  },
  {
   "cell_type": "code",
   "execution_count": 22,
   "id": "f0c425c3",
   "metadata": {},
   "outputs": [
    {
     "name": "stdout",
     "output_type": "stream",
     "text": [
      "{'name': 'Hema', 'id': 5555555, 'salary': 45000}\n"
     ]
    }
   ],
   "source": [
    "dict = {\n",
    "  \"name\": \"Hema\",\n",
    "  \"id\": \"555\",\n",
    "  \"salary\": 45000\n",
    "}\n",
    "dict.update({\"id\":5555555})\n",
    "print(dict)"
   ]
  },
  {
   "cell_type": "markdown",
   "id": "f3ac13d3",
   "metadata": {},
   "source": [
    "# Adding Items"
   ]
  },
  {
   "cell_type": "markdown",
   "id": "fff98397",
   "metadata": {},
   "source": [
    "Adding an item to the dictionary is done by using a new index key and assigning a value to it:"
   ]
  },
  {
   "cell_type": "code",
   "execution_count": 23,
   "id": "ca632613",
   "metadata": {},
   "outputs": [
    {
     "name": "stdout",
     "output_type": "stream",
     "text": [
      "{'name': 'Hema', 'id': '555', 'salary': 45000, 'company': 'info'}\n"
     ]
    }
   ],
   "source": [
    "dict = {\n",
    "  \"name\": \"Hema\",\n",
    "  \"id\": \"555\",\n",
    "  \"salary\": 45000\n",
    "}\n",
    "dict[\"company\"]=\"info\"\n",
    "print(dict)"
   ]
  },
  {
   "cell_type": "markdown",
   "id": "c2cd5e44",
   "metadata": {},
   "source": [
    "# Removing Items"
   ]
  },
  {
   "cell_type": "markdown",
   "id": "507f22b8",
   "metadata": {},
   "source": [
    "There are several methods to remove items from a dictionary:"
   ]
  },
  {
   "cell_type": "markdown",
   "id": "eb804614",
   "metadata": {},
   "source": [
    "# pop()"
   ]
  },
  {
   "cell_type": "markdown",
   "id": "5299966a",
   "metadata": {},
   "source": [
    "The pop() method removes the item with the specified key name:"
   ]
  },
  {
   "cell_type": "code",
   "execution_count": 25,
   "id": "02e6986e",
   "metadata": {},
   "outputs": [
    {
     "name": "stdout",
     "output_type": "stream",
     "text": [
      "{'name': 'Hema', 'salary': 45000}\n"
     ]
    }
   ],
   "source": [
    "dict = {\n",
    "  \"name\": \"Hema\",\n",
    "  \"id\": \"555\",\n",
    "  \"salary\": 45000\n",
    "}\n",
    "dict.pop(\"id\")\n",
    "print(dict)"
   ]
  },
  {
   "cell_type": "markdown",
   "id": "2b2f2b23",
   "metadata": {},
   "source": [
    "# popitem()"
   ]
  },
  {
   "cell_type": "markdown",
   "id": "eab5783a",
   "metadata": {},
   "source": [
    "The popitem() method removes the last inserted item (in versions before 3.7, a random item is removed instead):"
   ]
  },
  {
   "cell_type": "code",
   "execution_count": 27,
   "id": "d7f10a50",
   "metadata": {},
   "outputs": [
    {
     "name": "stdout",
     "output_type": "stream",
     "text": [
      "{'name': 'Hema', 'id': '555'}\n"
     ]
    }
   ],
   "source": [
    "dict = {\n",
    "  \"name\": \"Hema\",\n",
    "  \"id\": \"555\",\n",
    "  \"salary\": 45000\n",
    "}\n",
    "dict.popitem()\n",
    "print(dict)"
   ]
  },
  {
   "cell_type": "markdown",
   "id": "3ed4328d",
   "metadata": {},
   "source": [
    "# del "
   ]
  },
  {
   "cell_type": "markdown",
   "id": "27476fb8",
   "metadata": {},
   "source": [
    "The del keyword removes the item with the specified key name:"
   ]
  },
  {
   "cell_type": "code",
   "execution_count": 30,
   "id": "41357b9a",
   "metadata": {},
   "outputs": [
    {
     "name": "stdout",
     "output_type": "stream",
     "text": [
      "{'name': 'Hema', 'salary': 45000}\n"
     ]
    }
   ],
   "source": [
    "dict = {\n",
    "  \"name\": \"Hema\",\n",
    "  \"id\": \"555\",\n",
    "  \"salary\": 45000\n",
    "}\n",
    "del dict[\"id\"]\n",
    "print(dict)"
   ]
  },
  {
   "cell_type": "markdown",
   "id": "9af9c0b3",
   "metadata": {},
   "source": [
    "# clear()"
   ]
  },
  {
   "cell_type": "markdown",
   "id": "a6743177",
   "metadata": {},
   "source": [
    "The clear() method empties the dictionary:"
   ]
  },
  {
   "cell_type": "code",
   "execution_count": 32,
   "id": "1bb3fda2",
   "metadata": {},
   "outputs": [
    {
     "name": "stdout",
     "output_type": "stream",
     "text": [
      "{}\n"
     ]
    }
   ],
   "source": [
    "dict = {\n",
    "  \"name\": \"Hema\",\n",
    "  \"id\": \"555\",\n",
    "  \"salary\": 45000\n",
    "}\n",
    "dict.clear()\n",
    "print(dict)"
   ]
  },
  {
   "cell_type": "markdown",
   "id": "eff1f28d",
   "metadata": {},
   "source": [
    "# Loop Through a Dictionary"
   ]
  },
  {
   "cell_type": "markdown",
   "id": "3f33a502",
   "metadata": {},
   "source": [
    "You can loop through a dictionary by using a for loop.\n",
    "\n",
    "When looping through a dictionary, the return value are the keys of the dictionary, but there are methods to return the values as well."
   ]
  },
  {
   "cell_type": "code",
   "execution_count": 34,
   "id": "5f912867",
   "metadata": {},
   "outputs": [
    {
     "name": "stdout",
     "output_type": "stream",
     "text": [
      "name\n",
      "id\n",
      "salary\n"
     ]
    }
   ],
   "source": [
    "dict = {\n",
    "  \"name\": \"Hema\",\n",
    "  \"id\": \"555\",\n",
    "  \"salary\": 45000\n",
    "}\n",
    "for x in dict:\n",
    "  print(x)"
   ]
  },
  {
   "cell_type": "markdown",
   "id": "3fe13211",
   "metadata": {},
   "source": [
    "# values()"
   ]
  },
  {
   "cell_type": "markdown",
   "id": "acf6cf91",
   "metadata": {},
   "source": [
    "You can also use the values() method to return values of a dictionary:"
   ]
  },
  {
   "cell_type": "code",
   "execution_count": 35,
   "id": "88c32feb",
   "metadata": {},
   "outputs": [
    {
     "name": "stdout",
     "output_type": "stream",
     "text": [
      "Hema\n",
      "555\n",
      "45000\n"
     ]
    }
   ],
   "source": [
    "dict = {\n",
    "  \"name\": \"Hema\",\n",
    "  \"id\": \"555\",\n",
    "  \"salary\": 45000\n",
    "}\n",
    "for x in dict.values():\n",
    "  print(x)"
   ]
  },
  {
   "cell_type": "markdown",
   "id": "d6f34e1f",
   "metadata": {},
   "source": [
    "# keys()"
   ]
  },
  {
   "cell_type": "markdown",
   "id": "289e4ba1",
   "metadata": {},
   "source": [
    "You can use the keys() method to return the keys of a dictionary:"
   ]
  },
  {
   "cell_type": "code",
   "execution_count": 36,
   "id": "37b574c7",
   "metadata": {},
   "outputs": [
    {
     "name": "stdout",
     "output_type": "stream",
     "text": [
      "name\n",
      "id\n",
      "salary\n"
     ]
    }
   ],
   "source": [
    "dict = {\n",
    "  \"name\": \"Hema\",\n",
    "  \"id\": \"555\",\n",
    "  \"salary\": 45000\n",
    "}\n",
    "for x in dict.keys():\n",
    "  print(x)"
   ]
  },
  {
   "cell_type": "markdown",
   "id": "7eda5e26",
   "metadata": {},
   "source": [
    "# items()"
   ]
  },
  {
   "cell_type": "markdown",
   "id": "b55d3a7e",
   "metadata": {},
   "source": [
    "Loop through both keys and values, by using the items() method:"
   ]
  },
  {
   "cell_type": "code",
   "execution_count": 37,
   "id": "e6402e63",
   "metadata": {},
   "outputs": [
    {
     "name": "stdout",
     "output_type": "stream",
     "text": [
      "name Hema\n",
      "id 555\n",
      "salary 45000\n"
     ]
    }
   ],
   "source": [
    "dict = {\n",
    "  \"name\": \"Hema\",\n",
    "  \"id\": \"555\",\n",
    "  \"salary\": 45000\n",
    "}\n",
    "for x, y in dict.items():\n",
    "  print(x, y)"
   ]
  },
  {
   "cell_type": "markdown",
   "id": "0a87b5fc",
   "metadata": {},
   "source": [
    "# Copy a Dictionary"
   ]
  },
  {
   "cell_type": "markdown",
   "id": "edbacd2a",
   "metadata": {},
   "source": [
    "You cannot copy a dictionary simply by typing dict2 = dict1, because: dict2 will only be a reference to dict1, and changes made in dict1 will automatically also be made in dict2.\n",
    "\n",
    "There are ways to make a copy, one way is to use the built-in Dictionary method copy()."
   ]
  },
  {
   "cell_type": "code",
   "execution_count": 38,
   "id": "34d5ca48",
   "metadata": {},
   "outputs": [
    {
     "name": "stdout",
     "output_type": "stream",
     "text": [
      "{'name': 'Hema', 'id': '555', 'salary': 45000}\n"
     ]
    }
   ],
   "source": [
    "dict = {\n",
    "  \"name\": \"Hema\",\n",
    "  \"id\": \"555\",\n",
    "  \"salary\": 45000\n",
    "}\n",
    "mydict = dict.copy()\n",
    "print(mydict)"
   ]
  },
  {
   "cell_type": "markdown",
   "id": "92877349",
   "metadata": {},
   "source": [
    "# Nested Dictionaries"
   ]
  },
  {
   "cell_type": "markdown",
   "id": "3087f64f",
   "metadata": {},
   "source": [
    "A dictionary can contain dictionaries, this is called nested dictionaries."
   ]
  },
  {
   "cell_type": "code",
   "execution_count": 42,
   "id": "41f42664",
   "metadata": {},
   "outputs": [
    {
     "name": "stdout",
     "output_type": "stream",
     "text": [
      "{'child1': {'name': 'Emi', 'year': 2000}, 'child2': {'name': 'hem', 'year': 2005}, 'child3': {'name': 'hema', 'year': 2011}}\n"
     ]
    }
   ],
   "source": [
    "myfamily = {\n",
    "  \"child1\" : {\n",
    "    \"name\" : \"Emi\",\n",
    "    \"year\" : 2000\n",
    "  },\n",
    "  \"child2\" : {\n",
    "    \"name\" : \"hem\",\n",
    "    \"year\" : 2005\n",
    "  },\n",
    "  \"child3\" : {\n",
    "    \"name\" : \"hema\",\n",
    "    \"year\" : 2011\n",
    "  }\n",
    "}\n",
    "print(myfamily)"
   ]
  },
  {
   "cell_type": "code",
   "execution_count": null,
   "id": "15a1dd90",
   "metadata": {},
   "outputs": [],
   "source": []
  }
 ],
 "metadata": {
  "kernelspec": {
   "display_name": "Python 3 (ipykernel)",
   "language": "python",
   "name": "python3"
  },
  "language_info": {
   "codemirror_mode": {
    "name": "ipython",
    "version": 3
   },
   "file_extension": ".py",
   "mimetype": "text/x-python",
   "name": "python",
   "nbconvert_exporter": "python",
   "pygments_lexer": "ipython3",
   "version": "3.9.13"
  }
 },
 "nbformat": 4,
 "nbformat_minor": 5
}
