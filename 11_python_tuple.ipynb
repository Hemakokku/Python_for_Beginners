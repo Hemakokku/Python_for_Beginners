{
 "cells": [
  {
   "cell_type": "markdown",
   "id": "d7538cc6",
   "metadata": {},
   "source": [
    "# Tuples"
   ]
  },
  {
   "cell_type": "markdown",
   "id": "4f169518",
   "metadata": {},
   "source": [
    "Tuples are used to store multiple items in a single variable.\n",
    "\n",
    "Tuple is one of 4 built-in data types in Python used to store collections of data, the other 3 are List, Set, and Dictionary, all with different qualities and usage.\n",
    "\n",
    "A tuple is a collection which is ordered and unchangeable.\n",
    "\n",
    "Tuples are written with round brackets."
   ]
  },
  {
   "cell_type": "markdown",
   "id": "135497c7",
   "metadata": {},
   "source": [
    "# Tuple Items\n",
    "Tuple items are ordered, unchangeable, and allow duplicate values.\n",
    "\n",
    "Tuple items are indexed, the first item has index [0], the second item has index [1] etc.\n",
    "\n"
   ]
  },
  {
   "cell_type": "markdown",
   "id": "8ebce140",
   "metadata": {},
   "source": [
    "# Ordered\n",
    "When we say that tuples are ordered, it means that the items have a defined order, and that order will not change.\n",
    "\n"
   ]
  },
  {
   "cell_type": "markdown",
   "id": "4f5d4706",
   "metadata": {},
   "source": [
    "# Unchangeable\n",
    "Tuples are unchangeable, meaning that we cannot change, add or remove items after the tuple has been created.\n",
    "\n"
   ]
  },
  {
   "cell_type": "code",
   "execution_count": 2,
   "id": "3a80875b",
   "metadata": {},
   "outputs": [
    {
     "name": "stdout",
     "output_type": "stream",
     "text": [
      "('apple', 'orange', 'cherry')\n"
     ]
    }
   ],
   "source": [
    "tuple = (\"apple\", \"orange\", \"cherry\")\n",
    "print(tuple)"
   ]
  },
  {
   "cell_type": "markdown",
   "id": "926c3a79",
   "metadata": {},
   "source": [
    "# allow duplicates"
   ]
  },
  {
   "cell_type": "markdown",
   "id": "6151d689",
   "metadata": {},
   "source": [
    "Since tuples are indexed, they can have items with the same value:"
   ]
  },
  {
   "cell_type": "code",
   "execution_count": 3,
   "id": "76de0033",
   "metadata": {},
   "outputs": [
    {
     "name": "stdout",
     "output_type": "stream",
     "text": [
      "('apple', 'orange', 'cherry', 'apple', 'cherry', 'orange', 'cherry')\n"
     ]
    }
   ],
   "source": [
    "tuple = (\"apple\", \"orange\", \"cherry\", \"apple\", \"cherry\",\"orange\",\"cherry\")\n",
    "print(tuple)"
   ]
  },
  {
   "cell_type": "markdown",
   "id": "58ede432",
   "metadata": {},
   "source": [
    "# tuple length"
   ]
  },
  {
   "cell_type": "markdown",
   "id": "e5e8a30c",
   "metadata": {},
   "source": [
    "To determine how many items a tuple has, use the len() function:"
   ]
  },
  {
   "cell_type": "code",
   "execution_count": 4,
   "id": "5e3c76f6",
   "metadata": {},
   "outputs": [
    {
     "name": "stdout",
     "output_type": "stream",
     "text": [
      "7\n"
     ]
    }
   ],
   "source": [
    "tuple = (\"apple\", \"orange\", \"cherry\", \"apple\", \"cherry\",\"orange\",\"cherry\")\n",
    "print(len(tuple))"
   ]
  },
  {
   "cell_type": "markdown",
   "id": "63279091",
   "metadata": {},
   "source": [
    "# data types"
   ]
  },
  {
   "cell_type": "markdown",
   "id": "1168929f",
   "metadata": {},
   "source": [
    "Tuple items can be of any data type:"
   ]
  },
  {
   "cell_type": "code",
   "execution_count": 5,
   "id": "546e18e9",
   "metadata": {},
   "outputs": [
    {
     "name": "stdout",
     "output_type": "stream",
     "text": [
      "('apple', 'orange', 'cherry', 'cherry', 'orange', 'cherry')\n",
      "(1, 2, 3, 4, 5, 6, 7, 8, 9, 10)\n",
      "(True, False, False)\n"
     ]
    }
   ],
   "source": [
    "tuple1 = (\"apple\", \"orange\", \"cherry\",\"cherry\",\"orange\",\"cherry\")\n",
    "tuple2 = (1,2,3,4,5,6,7,8,9,10)\n",
    "tuple3 = (True, False, False)\n",
    "print(tuple1)\n",
    "print(tuple2)\n",
    "print(tuple3)"
   ]
  },
  {
   "cell_type": "markdown",
   "id": "930a1c82",
   "metadata": {},
   "source": [
    "# type()"
   ]
  },
  {
   "cell_type": "markdown",
   "id": "5988840e",
   "metadata": {},
   "source": [
    "From Python's perspective, tuples are defined as objects with the data type 'tuple':"
   ]
  },
  {
   "cell_type": "code",
   "execution_count": 6,
   "id": "f1666530",
   "metadata": {},
   "outputs": [
    {
     "name": "stdout",
     "output_type": "stream",
     "text": [
      "<class 'tuple'>\n",
      "<class 'tuple'>\n",
      "<class 'tuple'>\n"
     ]
    }
   ],
   "source": [
    "tuple1 = (\"apple\", \"orange\", \"cherry\",\"cherry\",\"orange\",\"cherry\")\n",
    "tuple2 = (1,2,3,4,5,6,7,8,9,10)\n",
    "tuple3 = (True, False, False)\n",
    "print(type(tuple1))\n",
    "print(type(tuple2))\n",
    "print(type(tuple3))"
   ]
  },
  {
   "cell_type": "markdown",
   "id": "47fab259",
   "metadata": {},
   "source": [
    "# There are four collection data types in the Python programming language:\n",
    "\n",
    "List is a collection which is ordered and changeable. Allows duplicate members.\n",
    "Tuple is a collection which is ordered and unchangeable. Allows duplicate members.\n",
    "Set is a collection which is unordered, unchangeable*, and unindexed. No duplicate members.\n",
    "Dictionary is a collection which is ordered** and changeable. No duplicate members."
   ]
  },
  {
   "cell_type": "markdown",
   "id": "6c15cb6b",
   "metadata": {},
   "source": [
    "# access tuples"
   ]
  },
  {
   "cell_type": "markdown",
   "id": "2d0a47cf",
   "metadata": {},
   "source": [
    "You can access tuple items by referring to the index number, inside square brackets:"
   ]
  },
  {
   "cell_type": "markdown",
   "id": "58a0240b",
   "metadata": {},
   "source": [
    "# Range of Indexes\n",
    "You can specify a range of indexes by specifying where to start and where to end the range.\n",
    "\n",
    "When specifying a range, the return value will be a new tuple with the specified items."
   ]
  },
  {
   "cell_type": "markdown",
   "id": "fc992b55",
   "metadata": {},
   "source": [
    "# Range of Negative Indexes\n",
    "Specify negative indexes if you want to start the search from the end of the tuple:"
   ]
  },
  {
   "cell_type": "code",
   "execution_count": 8,
   "id": "c1d6e520",
   "metadata": {},
   "outputs": [
    {
     "name": "stdout",
     "output_type": "stream",
     "text": [
      "orange\n"
     ]
    }
   ],
   "source": [
    "tuple = (\"apple\", \"orange\",\"orange\",\"berry\",\"cherry\")\n",
    "print(tuple[1])"
   ]
  },
  {
   "cell_type": "code",
   "execution_count": 9,
   "id": "c30abd84",
   "metadata": {},
   "outputs": [
    {
     "name": "stdout",
     "output_type": "stream",
     "text": [
      "('orange', 'orange', 'berry', 'cherry')\n"
     ]
    }
   ],
   "source": [
    "tuple = (\"apple\", \"orange\",\"orange\",\"berry\",\"cherry\")\n",
    "print(tuple[1:5])"
   ]
  },
  {
   "cell_type": "code",
   "execution_count": 10,
   "id": "f7271b27",
   "metadata": {},
   "outputs": [
    {
     "name": "stdout",
     "output_type": "stream",
     "text": [
      "apple\n"
     ]
    }
   ],
   "source": [
    "tuple = (\"apple\", \"orange\",\"orange\",\"berry\",\"cherry\")\n",
    "print(tuple[-5])"
   ]
  },
  {
   "cell_type": "markdown",
   "id": "94726075",
   "metadata": {},
   "source": [
    "# check if "
   ]
  },
  {
   "cell_type": "markdown",
   "id": "36809d1e",
   "metadata": {},
   "source": [
    "To determine if a specified item is present in a tuple use the in keyword:"
   ]
  },
  {
   "cell_type": "code",
   "execution_count": 11,
   "id": "c5e1cfad",
   "metadata": {},
   "outputs": [
    {
     "name": "stdout",
     "output_type": "stream",
     "text": [
      "Yes, 'apple' is in the fruits tuple\n"
     ]
    }
   ],
   "source": [
    "thistuple = (\"apple\", \"orange\",\"orange\",\"cherry\")\n",
    "if \"apple\" in thistuple:\n",
    "  print(\"Yes, 'apple' is in the fruits tuple\")\n"
   ]
  },
  {
   "cell_type": "markdown",
   "id": "3d167cbb",
   "metadata": {},
   "source": [
    "# change tuple values"
   ]
  },
  {
   "cell_type": "markdown",
   "id": "321ab393",
   "metadata": {},
   "source": [
    "Change Tuple Values\n",
    "Once a tuple is created, you cannot change its values. Tuples are unchangeable, or immutable as it also is called.\n",
    "\n",
    "But there is a workaround. You can convert the tuple into a list, change the list, and convert the list back into a tuple."
   ]
  },
  {
   "cell_type": "code",
   "execution_count": 19,
   "id": "c3dcc1eb",
   "metadata": {},
   "outputs": [
    {
     "ename": "TypeError",
     "evalue": "'tuple' object is not callable",
     "output_type": "error",
     "traceback": [
      "\u001b[1;31m---------------------------------------------------------------------------\u001b[0m",
      "\u001b[1;31mTypeError\u001b[0m                                 Traceback (most recent call last)",
      "\u001b[1;32m~\\AppData\\Local\\Temp\\ipykernel_21872\\2818972882.py\u001b[0m in \u001b[0;36m<module>\u001b[1;34m\u001b[0m\n\u001b[0;32m      2\u001b[0m \u001b[0my\u001b[0m \u001b[1;33m=\u001b[0m \u001b[0mlist\u001b[0m\u001b[1;33m(\u001b[0m\u001b[0mx\u001b[0m\u001b[1;33m)\u001b[0m\u001b[1;33m\u001b[0m\u001b[1;33m\u001b[0m\u001b[0m\n\u001b[0;32m      3\u001b[0m \u001b[0my\u001b[0m\u001b[1;33m[\u001b[0m\u001b[1;36m1\u001b[0m\u001b[1;33m]\u001b[0m \u001b[1;33m=\u001b[0m \u001b[1;34m\"kiwi\"\u001b[0m\u001b[1;33m\u001b[0m\u001b[1;33m\u001b[0m\u001b[0m\n\u001b[1;32m----> 4\u001b[1;33m \u001b[0mx\u001b[0m \u001b[1;33m=\u001b[0m \u001b[0mtuple\u001b[0m\u001b[1;33m(\u001b[0m\u001b[0my\u001b[0m\u001b[1;33m)\u001b[0m         \u001b[1;31m#Once a tuple is created, you cannot change its values. Tuples are unchangeable, or immutable as it also is called.\u001b[0m\u001b[1;33m\u001b[0m\u001b[1;33m\u001b[0m\u001b[0m\n\u001b[0m\u001b[0;32m      5\u001b[0m \u001b[1;33m\u001b[0m\u001b[0m\n\u001b[0;32m      6\u001b[0m \u001b[0mprint\u001b[0m\u001b[1;33m(\u001b[0m\u001b[0mx\u001b[0m\u001b[1;33m)\u001b[0m\u001b[1;33m\u001b[0m\u001b[1;33m\u001b[0m\u001b[0m\n",
      "\u001b[1;31mTypeError\u001b[0m: 'tuple' object is not callable"
     ]
    }
   ],
   "source": [
    "x = (\"apple\", \"orange\",\"orange\",\"berry\",\"cherry\")\n",
    "y = list(x)\n",
    "y[1] = \"kiwi\"\n",
    "x = tuple(y)         #Once a tuple is created, you cannot change its values. Tuples are unchangeable, or immutable as it also is called.\n",
    "\n",
    "print(x)"
   ]
  },
  {
   "cell_type": "markdown",
   "id": "e98fafaa",
   "metadata": {},
   "source": [
    "# add items"
   ]
  },
  {
   "cell_type": "markdown",
   "id": "4697e9b3",
   "metadata": {},
   "source": [
    "Since tuples are immutable, they do not have a build-in append() method, but there are other ways to add items to a tuple.\n",
    "\n",
    "1. Convert into a list: Just like the workaround for changing a tuple, you can convert it into a list, add your item(s), and convert it back into a tuple."
   ]
  },
  {
   "cell_type": "markdown",
   "id": "61b0920f",
   "metadata": {},
   "source": [
    "2. Add tuple to a tuple. You are allowed to add tuples to tuples, so if you want to add one item, (or many), create a new tuple with the item(s), and add it to the existing tuple:"
   ]
  },
  {
   "cell_type": "code",
   "execution_count": 20,
   "id": "0a098afb",
   "metadata": {},
   "outputs": [
    {
     "name": "stdout",
     "output_type": "stream",
     "text": [
      "('apple', 'orange', 'cherry', 'orange')\n"
     ]
    }
   ],
   "source": [
    "thistuple = (\"apple\", \"orange\", \"cherry\")\n",
    "y = (\"orange\",)\n",
    "thistuple += y\n",
    "\n",
    "print(thistuple)"
   ]
  },
  {
   "cell_type": "markdown",
   "id": "1c548fa6",
   "metadata": {},
   "source": [
    "# remove items"
   ]
  },
  {
   "cell_type": "markdown",
   "id": "6a530e0d",
   "metadata": {},
   "source": [
    "Tuples are unchangeable, so you cannot remove items from it, but you can use the same workaround as we used for changing and adding tuple items:"
   ]
  },
  {
   "cell_type": "code",
   "execution_count": 23,
   "id": "463db093",
   "metadata": {},
   "outputs": [
    {
     "name": "stdout",
     "output_type": "stream",
     "text": [
      "<class 'tuple'>\n"
     ]
    }
   ],
   "source": [
    "tuple = (\"apple\", \"orange\", \"cherry\")\n",
    "del tuple\n",
    "print(tuple)            #this will raise an error because the tuple no longer exists"
   ]
  },
  {
   "cell_type": "markdown",
   "id": "b203b008",
   "metadata": {},
   "source": [
    "# count "
   ]
  },
  {
   "cell_type": "code",
   "execution_count": 33,
   "id": "2b8d25f3",
   "metadata": {},
   "outputs": [
    {
     "name": "stdout",
     "output_type": "stream",
     "text": [
      "('apple', 'orange', 'cherry', 'kiwi')\n"
     ]
    }
   ],
   "source": [
    "tuple = (\"apple\", \"orange\", \"cherry\",\"kiwi\")\n",
    "tuple.count(tuple)\n",
    "print(tuple)"
   ]
  },
  {
   "cell_type": "markdown",
   "id": "9029fbb0",
   "metadata": {},
   "source": [
    "# unpacking the tuple"
   ]
  },
  {
   "cell_type": "markdown",
   "id": "6b2aec58",
   "metadata": {},
   "source": [
    "When we create a tuple, we normally assign values to it. This is called \"packing\" a tuple:"
   ]
  },
  {
   "cell_type": "code",
   "execution_count": 24,
   "id": "68d8053f",
   "metadata": {},
   "outputs": [
    {
     "name": "stdout",
     "output_type": "stream",
     "text": [
      "apple\n",
      "orange\n",
      "cherry\n"
     ]
    }
   ],
   "source": [
    "fruits = (\"apple\", \"orange\", \"cherry\")\n",
    "\n",
    "(green, orange, red) = fruits\n",
    "\n",
    "print(green)\n",
    "print(orange)\n",
    "print(red)"
   ]
  },
  {
   "cell_type": "markdown",
   "id": "145c7114",
   "metadata": {},
   "source": [
    "# using asterisk *"
   ]
  },
  {
   "cell_type": "markdown",
   "id": "7bd257f9",
   "metadata": {},
   "source": [
    "If the number of variables is less than the number of values, you can add an * to the variable name and the values will be assigned to the variable as a list:"
   ]
  },
  {
   "cell_type": "code",
   "execution_count": 25,
   "id": "b5a3189d",
   "metadata": {},
   "outputs": [
    {
     "name": "stdout",
     "output_type": "stream",
     "text": [
      "apple\n",
      "banana\n",
      "['cherry', 'strawberry', 'raspberry']\n"
     ]
    }
   ],
   "source": [
    "fruits = (\"apple\", \"banana\", \"cherry\", \"strawberry\", \"raspberry\")\n",
    "\n",
    "(green, orange, *red) = fruits\n",
    "\n",
    "print(green)\n",
    "print(orange)\n",
    "print(red)"
   ]
  },
  {
   "cell_type": "markdown",
   "id": "e06ecfee",
   "metadata": {},
   "source": [
    "# loop tuples"
   ]
  },
  {
   "cell_type": "markdown",
   "id": "2baf8812",
   "metadata": {},
   "source": [
    "You can loop through the tuple items by using a for loop."
   ]
  },
  {
   "cell_type": "code",
   "execution_count": 26,
   "id": "0940a69c",
   "metadata": {},
   "outputs": [
    {
     "name": "stdout",
     "output_type": "stream",
     "text": [
      "apple\n",
      "orange\n",
      "cherry\n"
     ]
    }
   ],
   "source": [
    "tuple = (\"apple\", \"orange\", \"cherry\")\n",
    "for x in tuple:\n",
    "  print(x)"
   ]
  },
  {
   "cell_type": "markdown",
   "id": "6c12cbc4",
   "metadata": {},
   "source": [
    "# loop through index numbers"
   ]
  },
  {
   "cell_type": "markdown",
   "id": "67dc8814",
   "metadata": {},
   "source": [
    "You can also loop through the tuple items by referring to their index number.\n",
    "\n",
    "Use the range() and len() functions to create a suitable iterable."
   ]
  },
  {
   "cell_type": "code",
   "execution_count": 27,
   "id": "de56e559",
   "metadata": {},
   "outputs": [
    {
     "name": "stdout",
     "output_type": "stream",
     "text": [
      "apple\n",
      "orange\n",
      "cherry\n",
      "berry\n",
      "mango\n",
      "cherry\n"
     ]
    }
   ],
   "source": [
    "tuple = (\"apple\", \"orange\", \"cherry\",\"berry\",\"mango\",\"cherry\")\n",
    "for i in range(len(tuple)):\n",
    "  print(tuple[i])"
   ]
  },
  {
   "cell_type": "markdown",
   "id": "7e7469e7",
   "metadata": {},
   "source": [
    "# using while loop"
   ]
  },
  {
   "cell_type": "markdown",
   "id": "88df581b",
   "metadata": {},
   "source": [
    "You can loop through the list items by using a while loop.\n",
    "\n",
    "Use the len() function to determine the length of the tuple, then start at 0 and loop your way through the tuple items by refering to their indexes.\n",
    "\n",
    "Remember to increase the index by 1 after each iteration."
   ]
  },
  {
   "cell_type": "code",
   "execution_count": 28,
   "id": "75c24f2c",
   "metadata": {},
   "outputs": [
    {
     "name": "stdout",
     "output_type": "stream",
     "text": [
      "apple\n",
      "orange\n",
      "cherry\n",
      "orange\n",
      "cherry\n"
     ]
    }
   ],
   "source": [
    "tuple = (\"apple\", \"orange\", \"cherry\",\"orange\",\"cherry\")\n",
    "i = 0\n",
    "while i < len(tuple):\n",
    "  print(tuple[i])\n",
    "  i = i + 1"
   ]
  },
  {
   "cell_type": "markdown",
   "id": "54e230b7",
   "metadata": {},
   "source": [
    "# Join tuples"
   ]
  },
  {
   "cell_type": "markdown",
   "id": "6e7d9273",
   "metadata": {},
   "source": [
    "To join two or more tuples you can use the + operator:"
   ]
  },
  {
   "cell_type": "code",
   "execution_count": 30,
   "id": "0760b0df",
   "metadata": {},
   "outputs": [
    {
     "name": "stdout",
     "output_type": "stream",
     "text": [
      "('a', 'b', 'c', 'd', 'e', 1, 2, 3, 4, 5, 6, 7, 8, 9, 10)\n"
     ]
    }
   ],
   "source": [
    "tuple1 = (\"a\", \"b\" , \"c\",\"d\",\"e\")\n",
    "tuple2 = (1,2,3,4,5,6,7,8,9,10)\n",
    "\n",
    "tuple3 = tuple1 + tuple2\n",
    "print(tuple3)"
   ]
  },
  {
   "cell_type": "markdown",
   "id": "d5d88e19",
   "metadata": {},
   "source": [
    "# Multiply tuples"
   ]
  },
  {
   "cell_type": "markdown",
   "id": "9aeab5f7",
   "metadata": {},
   "source": [
    "If you want to multiply the content of a tuple a given number of times, you can use the * operator:"
   ]
  },
  {
   "cell_type": "code",
   "execution_count": 31,
   "id": "2938ca3e",
   "metadata": {},
   "outputs": [
    {
     "name": "stdout",
     "output_type": "stream",
     "text": [
      "('apple', 'orange', 'cherry', 'orange', 'cherry', 'apple', 'orange', 'cherry', 'orange', 'cherry')\n"
     ]
    }
   ],
   "source": [
    "fruits = (\"apple\", \"orange\", \"cherry\",\"orange\",\"cherry\")\n",
    "tuple = fruits * 2\n",
    "\n",
    "print(tuple)"
   ]
  },
  {
   "cell_type": "code",
   "execution_count": null,
   "id": "303ba1fa",
   "metadata": {},
   "outputs": [],
   "source": []
  }
 ],
 "metadata": {
  "kernelspec": {
   "display_name": "Python 3 (ipykernel)",
   "language": "python",
   "name": "python3"
  },
  "language_info": {
   "codemirror_mode": {
    "name": "ipython",
    "version": 3
   },
   "file_extension": ".py",
   "mimetype": "text/x-python",
   "name": "python",
   "nbconvert_exporter": "python",
   "pygments_lexer": "ipython3",
   "version": "3.9.13"
  }
 },
 "nbformat": 4,
 "nbformat_minor": 5
}
