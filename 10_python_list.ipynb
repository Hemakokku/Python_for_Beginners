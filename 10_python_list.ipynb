{
 "cells": [
  {
   "cell_type": "markdown",
   "id": "c1280b22",
   "metadata": {},
   "source": [
    "# Lists"
   ]
  },
  {
   "cell_type": "markdown",
   "id": "f35e479d",
   "metadata": {},
   "source": [
    "Lists are used to store multiple items in a single variable.\n",
    "\n",
    "Lists are one of 4 built-in data types in Python used to store collections of data, the other 3 are Tuple, Set, and Dictionary, all with different qualities and usage.\n",
    "\n",
    "Lists are created using square brackets:"
   ]
  },
  {
   "cell_type": "markdown",
   "id": "df7da40b",
   "metadata": {},
   "source": [
    "# List Items\n",
    "List items are ordered, changeable, and allow duplicate values.\n",
    "\n",
    "List items are indexed, the first item has index [0], the second item has index [1] etc.\n",
    "\n",
    "Ordered\n",
    "When we say that lists are ordered, it means that the items have a defined order, and that order will not change.\n",
    "\n",
    "If you add new items to a list, the new items will be placed at the end of the list."
   ]
  },
  {
   "cell_type": "markdown",
   "id": "e9630204",
   "metadata": {},
   "source": [
    "# Changeable\n",
    "The list is changeable, meaning that we can change, add, and remove items in a list after it has been created."
   ]
  },
  {
   "cell_type": "code",
   "execution_count": 12,
   "id": "b9a0cabf",
   "metadata": {},
   "outputs": [
    {
     "name": "stdout",
     "output_type": "stream",
     "text": [
      "['apple', 'orange', 'cherry']\n"
     ]
    }
   ],
   "source": [
    "list = [\"apple\", \"orange\", \"cherry\"]\n",
    "print(list)"
   ]
  },
  {
   "cell_type": "code",
   "execution_count": 13,
   "id": "b1cd5729",
   "metadata": {},
   "outputs": [
    {
     "name": "stdout",
     "output_type": "stream",
     "text": [
      "[1, 2, 3, 4, 5, 6, 7, 8, 9, 10]\n"
     ]
    }
   ],
   "source": [
    "a=[1,2,3,4,5,6,7,8,9,10]\n",
    "print(a)"
   ]
  },
  {
   "cell_type": "markdown",
   "id": "6d0592b9",
   "metadata": {},
   "source": [
    "# allows duplicates"
   ]
  },
  {
   "cell_type": "markdown",
   "id": "69fa196d",
   "metadata": {},
   "source": [
    "Since lists are indexed, lists can have items with the same value:"
   ]
  },
  {
   "cell_type": "code",
   "execution_count": 14,
   "id": "92c8856b",
   "metadata": {},
   "outputs": [
    {
     "name": "stdout",
     "output_type": "stream",
     "text": [
      "['apple', 'banana', 'cherry', 'orange', 'orange']\n"
     ]
    }
   ],
   "source": [
    "list = [\"apple\", \"banana\", \"cherry\",\"orange\",\"orange\"]\n",
    "print(list)"
   ]
  },
  {
   "cell_type": "markdown",
   "id": "a82b1655",
   "metadata": {},
   "source": [
    "# length of list"
   ]
  },
  {
   "cell_type": "markdown",
   "id": "cbd1b567",
   "metadata": {},
   "source": [
    "To determine how many items a list has, use the len() function:"
   ]
  },
  {
   "cell_type": "code",
   "execution_count": 15,
   "id": "a8db1f7a",
   "metadata": {},
   "outputs": [
    {
     "name": "stdout",
     "output_type": "stream",
     "text": [
      "10\n"
     ]
    }
   ],
   "source": [
    "a=[1,2,3,4,5,6,7,8,9,10]\n",
    "print(len(a))"
   ]
  },
  {
   "cell_type": "markdown",
   "id": "7fe6f80c",
   "metadata": {},
   "source": [
    "# data type"
   ]
  },
  {
   "cell_type": "markdown",
   "id": "a6fb2c06",
   "metadata": {},
   "source": [
    "List items can be of any data type:"
   ]
  },
  {
   "cell_type": "code",
   "execution_count": 16,
   "id": "a3f665bd",
   "metadata": {},
   "outputs": [
    {
     "name": "stdout",
     "output_type": "stream",
     "text": [
      "['apple', 'orange', 'cherry']\n",
      "[1, 5, 3, 9, 3]\n",
      "[True, False, False]\n"
     ]
    }
   ],
   "source": [
    "list1 = [\"apple\", \"orange\", \"cherry\"]\n",
    "list2 = [1, 5, 3, 9, 3]\n",
    "list3 = [True, False, False]\n",
    "print(list1)\n",
    "print(list2)\n",
    "print(list3)"
   ]
  },
  {
   "cell_type": "markdown",
   "id": "0aae498a",
   "metadata": {},
   "source": [
    "# type()"
   ]
  },
  {
   "cell_type": "markdown",
   "id": "a636a9f8",
   "metadata": {},
   "source": [
    "From Python's perspective, lists are defined as objects with the data type 'list':"
   ]
  },
  {
   "cell_type": "code",
   "execution_count": 17,
   "id": "a752f145",
   "metadata": {},
   "outputs": [
    {
     "name": "stdout",
     "output_type": "stream",
     "text": [
      "<class 'list'>\n",
      "<class 'list'>\n",
      "<class 'list'>\n"
     ]
    }
   ],
   "source": [
    "list1 = [\"apple\", \"orange\", \"cherry\"]\n",
    "list2 = [1, 5, 3, 9, 3]\n",
    "list3 = [True, False, False]\n",
    "print(type(list1))\n",
    "print(type(list2))\n",
    "print(type(list3))"
   ]
  },
  {
   "cell_type": "markdown",
   "id": "5d2cee5d",
   "metadata": {},
   "source": [
    "# access items"
   ]
  },
  {
   "cell_type": "markdown",
   "id": "e577aeac",
   "metadata": {},
   "source": [
    "List items are indexed and you can access them by referring to the index number:"
   ]
  },
  {
   "cell_type": "code",
   "execution_count": 19,
   "id": "765892b4",
   "metadata": {},
   "outputs": [
    {
     "name": "stdout",
     "output_type": "stream",
     "text": [
      "3\n"
     ]
    }
   ],
   "source": [
    "a=[1,2,3,4,5,6,7,8,9,10]\n",
    "print(a[2])"
   ]
  },
  {
   "cell_type": "code",
   "execution_count": 20,
   "id": "ed9808f9",
   "metadata": {},
   "outputs": [
    {
     "name": "stdout",
     "output_type": "stream",
     "text": [
      "[3, 4, 5, 6]\n"
     ]
    }
   ],
   "source": [
    "a=[1,2,3,4,5,6,7,8,9,10]\n",
    "print(a[2:6])"
   ]
  },
  {
   "cell_type": "code",
   "execution_count": 21,
   "id": "c20efa93",
   "metadata": {},
   "outputs": [
    {
     "name": "stdout",
     "output_type": "stream",
     "text": [
      "5\n"
     ]
    }
   ],
   "source": [
    "a=[1,2,3,4,5,6,7,8,9,10]\n",
    "print(a[-6])"
   ]
  },
  {
   "cell_type": "markdown",
   "id": "d48ca0ed",
   "metadata": {},
   "source": [
    "# change values"
   ]
  },
  {
   "cell_type": "markdown",
   "id": "092a0cac",
   "metadata": {},
   "source": [
    "To change the value of a specific item, refer to the index number:"
   ]
  },
  {
   "cell_type": "markdown",
   "id": "98f56949",
   "metadata": {},
   "source": [
    "# Change a Range of Item Values\n",
    "To change the value of items within a specific range, define a list with the new values, and refer to the range of index numbers where you want to insert the new values:"
   ]
  },
  {
   "cell_type": "code",
   "execution_count": 22,
   "id": "b18430d9",
   "metadata": {},
   "outputs": [
    {
     "name": "stdout",
     "output_type": "stream",
     "text": [
      "['apple', 'berry', 'cherry']\n"
     ]
    }
   ],
   "source": [
    "list = [\"apple\", \"orange\", \"cherry\"]\n",
    "list[1]=\"berry\"\n",
    "print(list)"
   ]
  },
  {
   "cell_type": "code",
   "execution_count": 23,
   "id": "33cf602d",
   "metadata": {},
   "outputs": [
    {
     "name": "stdout",
     "output_type": "stream",
     "text": [
      "['apple', 'berry', 'mango', 'cherry']\n"
     ]
    }
   ],
   "source": [
    "list = [\"apple\", \"orange\", \"cherry\"]\n",
    "list[1:2]=\"berry\",\"mango\"\n",
    "print(list)"
   ]
  },
  {
   "cell_type": "markdown",
   "id": "859dd33c",
   "metadata": {},
   "source": [
    "# insert items"
   ]
  },
  {
   "cell_type": "markdown",
   "id": "ecbcbc85",
   "metadata": {},
   "source": [
    "To insert a new list item, without replacing any of the existing values, we can use the insert() method.\n",
    "\n",
    "The insert() method inserts an item at the specified index:"
   ]
  },
  {
   "cell_type": "code",
   "execution_count": 24,
   "id": "6f9d5a7d",
   "metadata": {},
   "outputs": [
    {
     "name": "stdout",
     "output_type": "stream",
     "text": [
      "['apple', 'orange', 'berry', 'cherry']\n"
     ]
    }
   ],
   "source": [
    "list = [\"apple\", \"orange\", \"cherry\"]\n",
    "list.insert(2,\"berry\")\n",
    "print(list)"
   ]
  },
  {
   "cell_type": "markdown",
   "id": "4808d352",
   "metadata": {},
   "source": [
    "# append()"
   ]
  },
  {
   "cell_type": "markdown",
   "id": "47cbce59",
   "metadata": {},
   "source": [
    "To add an item to the end of the list, use the append() method:"
   ]
  },
  {
   "cell_type": "code",
   "execution_count": 26,
   "id": "2ec32cc6",
   "metadata": {},
   "outputs": [
    {
     "name": "stdout",
     "output_type": "stream",
     "text": [
      "['apple', 'orange', 'cherry', 'berry']\n"
     ]
    }
   ],
   "source": [
    "list = [\"apple\", \"orange\", \"cherry\"]\n",
    "list.append(\"berry\")\n",
    "print(list)"
   ]
  },
  {
   "cell_type": "markdown",
   "id": "e631c757",
   "metadata": {},
   "source": [
    "# extend()"
   ]
  },
  {
   "cell_type": "markdown",
   "id": "a1ee81cb",
   "metadata": {},
   "source": [
    "To append elements from another list to the current list, use the extend() method."
   ]
  },
  {
   "cell_type": "code",
   "execution_count": 27,
   "id": "5d494a8f",
   "metadata": {},
   "outputs": [
    {
     "name": "stdout",
     "output_type": "stream",
     "text": [
      "['apple', 'banana', 'cherry', 'mango', 'pineapple', 'papaya']\n"
     ]
    }
   ],
   "source": [
    "list = [\"apple\", \"banana\", \"cherry\"]\n",
    "tropical = [\"mango\", \"pineapple\", \"papaya\"]\n",
    "list.extend(tropical)\n",
    "print(list)"
   ]
  },
  {
   "cell_type": "markdown",
   "id": "a7ab76a6",
   "metadata": {},
   "source": [
    "# remove()"
   ]
  },
  {
   "cell_type": "markdown",
   "id": "f762ee69",
   "metadata": {},
   "source": [
    "The remove() method removes the specified item."
   ]
  },
  {
   "cell_type": "code",
   "execution_count": 28,
   "id": "1952e1ab",
   "metadata": {},
   "outputs": [
    {
     "name": "stdout",
     "output_type": "stream",
     "text": [
      "['apple', 'orange']\n"
     ]
    }
   ],
   "source": [
    "list = [\"apple\", \"orange\", \"cherry\"]\n",
    "list.remove(\"cherry\")\n",
    "print(list)"
   ]
  },
  {
   "cell_type": "markdown",
   "id": "bd10cc28",
   "metadata": {},
   "source": [
    "pop()"
   ]
  },
  {
   "cell_type": "markdown",
   "id": "145bedfe",
   "metadata": {},
   "source": [
    "The pop() method removes the specified index."
   ]
  },
  {
   "cell_type": "code",
   "execution_count": 30,
   "id": "259423bf",
   "metadata": {},
   "outputs": [
    {
     "name": "stdout",
     "output_type": "stream",
     "text": [
      "['apple', 'cherry']\n"
     ]
    }
   ],
   "source": [
    "list = [\"apple\", \"banana\", \"cherry\"]    #pop() method removes the specified index.\n",
    "list.pop(1)\n",
    "print(list)\n"
   ]
  },
  {
   "cell_type": "markdown",
   "id": "42aaac30",
   "metadata": {},
   "source": [
    "del()"
   ]
  },
  {
   "cell_type": "markdown",
   "id": "ae625f0c",
   "metadata": {},
   "source": [
    "The del keyword also removes the specified index:"
   ]
  },
  {
   "cell_type": "code",
   "execution_count": 31,
   "id": "269a4294",
   "metadata": {},
   "outputs": [
    {
     "name": "stdout",
     "output_type": "stream",
     "text": [
      "['banana', 'cherry']\n"
     ]
    }
   ],
   "source": [
    "list = [\"apple\", \"banana\", \"cherry\"] #del keyword also removes the specified index.\n",
    "del list[0]\n",
    "print(list)"
   ]
  },
  {
   "cell_type": "code",
   "execution_count": 32,
   "id": "4505dffc",
   "metadata": {},
   "outputs": [],
   "source": [
    "list = [\"apple\", \"orange\", \"cherry\"] #del keyword can also delete the list completely.\n",
    "del list"
   ]
  },
  {
   "cell_type": "markdown",
   "id": "7761e9dc",
   "metadata": {},
   "source": [
    "clear()"
   ]
  },
  {
   "cell_type": "markdown",
   "id": "8617e4f5",
   "metadata": {},
   "source": [
    "The clear() method empties the list.\n",
    "\n",
    "The list still remains, but it has no content."
   ]
  },
  {
   "cell_type": "code",
   "execution_count": 33,
   "id": "dcc8c0c5",
   "metadata": {},
   "outputs": [
    {
     "name": "stdout",
     "output_type": "stream",
     "text": [
      "[]\n"
     ]
    }
   ],
   "source": [
    "list = [\"apple\", \"banana\", \"cherry\"]\n",
    "list.clear()\n",
    "print(list)"
   ]
  },
  {
   "cell_type": "markdown",
   "id": "6b07b7da",
   "metadata": {},
   "source": [
    "# loop through a list"
   ]
  },
  {
   "cell_type": "markdown",
   "id": "269202ea",
   "metadata": {},
   "source": [
    "You can loop through the list items by using a for loop:"
   ]
  },
  {
   "cell_type": "code",
   "execution_count": 34,
   "id": "f7ab8467",
   "metadata": {},
   "outputs": [
    {
     "name": "stdout",
     "output_type": "stream",
     "text": [
      "apple\n",
      "banana\n",
      "cherry\n"
     ]
    }
   ],
   "source": [
    "list = [\"apple\", \"banana\", \"cherry\"]\n",
    "for x in list:\n",
    "  print(x)"
   ]
  },
  {
   "cell_type": "markdown",
   "id": "6e713212",
   "metadata": {},
   "source": [
    "loop through the index numbers"
   ]
  },
  {
   "cell_type": "markdown",
   "id": "515f1ac7",
   "metadata": {},
   "source": [
    "You can also loop through the list items by referring to their index number.\n",
    "\n",
    "Use the range() and len() functions to create a suitable iterable."
   ]
  },
  {
   "cell_type": "code",
   "execution_count": 35,
   "id": "15f525a4",
   "metadata": {},
   "outputs": [
    {
     "name": "stdout",
     "output_type": "stream",
     "text": [
      "apple\n",
      "banana\n",
      "cherry\n"
     ]
    }
   ],
   "source": [
    "list = [\"apple\", \"banana\", \"cherry\"]\n",
    "for i in range(len(list)):\n",
    "  print(list[i])"
   ]
  },
  {
   "cell_type": "markdown",
   "id": "852d6035",
   "metadata": {},
   "source": [
    "# while loop"
   ]
  },
  {
   "cell_type": "markdown",
   "id": "71ad88de",
   "metadata": {},
   "source": [
    "You can loop through the list items by using a while loop.\n",
    "\n",
    "Use the len() function to determine the length of the list, then start at 0 and loop your way through the list items by referring to their indexes.\n",
    "\n",
    "Remember to increase the index by 1 after each iteration."
   ]
  },
  {
   "cell_type": "code",
   "execution_count": 36,
   "id": "054e7272",
   "metadata": {},
   "outputs": [
    {
     "name": "stdout",
     "output_type": "stream",
     "text": [
      "apple\n",
      "banana\n",
      "cherry\n"
     ]
    }
   ],
   "source": [
    "list = [\"apple\", \"banana\", \"cherry\"]\n",
    "i = 0\n",
    "while i < len(list):\n",
    "  print(list[i])\n",
    "  i = i + 1"
   ]
  },
  {
   "cell_type": "markdown",
   "id": "eac35bfd",
   "metadata": {},
   "source": [
    "# Looping Using List Comprehension\n"
   ]
  },
  {
   "cell_type": "markdown",
   "id": "83ae0319",
   "metadata": {},
   "source": [
    "List Comprehension offers the shortest syntax for looping through lists:"
   ]
  },
  {
   "cell_type": "code",
   "execution_count": 37,
   "id": "1915df4b",
   "metadata": {},
   "outputs": [
    {
     "name": "stdout",
     "output_type": "stream",
     "text": [
      "apple\n",
      "banana\n",
      "cherry\n"
     ]
    },
    {
     "data": {
      "text/plain": [
       "[None, None, None]"
      ]
     },
     "execution_count": 37,
     "metadata": {},
     "output_type": "execute_result"
    }
   ],
   "source": [
    "list = [\"apple\", \"banana\", \"cherry\"]\n",
    "[print(x) for x in list]        #List Comprehension offers the shortest syntax for looping through lists"
   ]
  },
  {
   "cell_type": "markdown",
   "id": "5f8b0c33",
   "metadata": {},
   "source": [
    "# sort()"
   ]
  },
  {
   "cell_type": "markdown",
   "id": "c98ed414",
   "metadata": {},
   "source": [
    "List objects have a sort() method that will sort the list alphanumerically, ascending, by default:"
   ]
  },
  {
   "cell_type": "code",
   "execution_count": 38,
   "id": "3ff33930",
   "metadata": {},
   "outputs": [
    {
     "name": "stdout",
     "output_type": "stream",
     "text": [
      "[23, 50, 65, 82, 100]\n"
     ]
    }
   ],
   "source": [
    "list = [100, 50, 65, 82, 23]\n",
    "list.sort()\n",
    "print(list)"
   ]
  },
  {
   "cell_type": "markdown",
   "id": "934e9fb9",
   "metadata": {},
   "source": [
    "# reverse()"
   ]
  },
  {
   "cell_type": "markdown",
   "id": "b605b96a",
   "metadata": {},
   "source": [
    "What if you want to reverse the order of a list, regardless of the alphabet?\n",
    "\n",
    "The reverse() method reverses the current sorting order of the elements."
   ]
  },
  {
   "cell_type": "code",
   "execution_count": 39,
   "id": "aec815a5",
   "metadata": {},
   "outputs": [
    {
     "name": "stdout",
     "output_type": "stream",
     "text": [
      "['cherry', 'Kiwi', 'Orange', 'apple']\n"
     ]
    }
   ],
   "source": [
    "list = [\"apple\", \"Orange\", \"Kiwi\", \"cherry\"]\n",
    "list.reverse()\n",
    "print(list)"
   ]
  },
  {
   "cell_type": "markdown",
   "id": "276d5766",
   "metadata": {},
   "source": [
    "# copy()"
   ]
  },
  {
   "cell_type": "markdown",
   "id": "ef4902ee",
   "metadata": {},
   "source": [
    "You cannot copy a list simply by typing list2 = list1, because: list2 will only be a reference to list1, and changes made in list1 will automatically also be made in list2.\n",
    "\n",
    "There are ways to make a copy, one way is to use the built-in List method copy()."
   ]
  },
  {
   "cell_type": "code",
   "execution_count": 40,
   "id": "2ffab0b5",
   "metadata": {},
   "outputs": [
    {
     "name": "stdout",
     "output_type": "stream",
     "text": [
      "['apple', 'orange', 'cherry', 'kiwi']\n"
     ]
    }
   ],
   "source": [
    "list = [\"apple\", \"orange\", \"cherry\",\"kiwi\"]\n",
    "mylist = list.copy()\n",
    "print(mylist)"
   ]
  },
  {
   "cell_type": "markdown",
   "id": "4f0d9d44",
   "metadata": {},
   "source": [
    "# count()"
   ]
  },
  {
   "cell_type": "code",
   "execution_count": 44,
   "id": "4519763a",
   "metadata": {},
   "outputs": [
    {
     "name": "stdout",
     "output_type": "stream",
     "text": [
      "['apple', 'orange', 'cherry', 'kiwi']\n"
     ]
    }
   ],
   "source": [
    "list = [\"apple\", \"orange\", \"cherry\",\"kiwi\"]\n",
    "list.count(1)\n",
    "print(list)"
   ]
  },
  {
   "cell_type": "markdown",
   "id": "425ddc68",
   "metadata": {},
   "source": [
    "# join the two lists"
   ]
  },
  {
   "cell_type": "markdown",
   "id": "2daa6a59",
   "metadata": {},
   "source": [
    "There are several ways to join, or concatenate, two or more lists in Python.\n",
    "\n",
    "One of the easiest ways are by using the + operator."
   ]
  },
  {
   "cell_type": "code",
   "execution_count": 41,
   "id": "9c266e99",
   "metadata": {},
   "outputs": [
    {
     "name": "stdout",
     "output_type": "stream",
     "text": [
      "['a', 'b', 'c', 'd', 'e', 1, 2, 3, 4, 5, 6, 7, 8, 9, 10]\n"
     ]
    }
   ],
   "source": [
    "list1 = [\"a\", \"b\", \"c\",\"d\",\"e\"]\n",
    "list2 = [1, 2, 3,4,5,6,7,8,9,10]\n",
    "\n",
    "list3 = list1 + list2\n",
    "print(list3)"
   ]
  },
  {
   "cell_type": "code",
   "execution_count": null,
   "id": "60eef94e",
   "metadata": {},
   "outputs": [],
   "source": []
  }
 ],
 "metadata": {
  "kernelspec": {
   "display_name": "Python 3 (ipykernel)",
   "language": "python",
   "name": "python3"
  },
  "language_info": {
   "codemirror_mode": {
    "name": "ipython",
    "version": 3
   },
   "file_extension": ".py",
   "mimetype": "text/x-python",
   "name": "python",
   "nbconvert_exporter": "python",
   "pygments_lexer": "ipython3",
   "version": "3.9.13"
  }
 },
 "nbformat": 4,
 "nbformat_minor": 5
}
