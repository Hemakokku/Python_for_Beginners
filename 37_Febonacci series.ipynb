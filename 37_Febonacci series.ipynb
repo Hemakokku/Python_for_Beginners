{
 "cells": [
  {
   "cell_type": "code",
   "execution_count": 5,
   "id": "6137557e",
   "metadata": {},
   "outputs": [
    {
     "name": "stdout",
     "output_type": "stream",
     "text": [
      "10th term of the fibonacci series is:\n",
      "34\n"
     ]
    }
   ],
   "source": [
    "def fibonacci(N):\n",
    "    if N == 1:\n",
    "        return 0\n",
    "    if N == 2:\n",
    "        return 1\n",
    "    return fibonacci(N - 1) + fibonacci(N - 2)\n",
    "\n",
    "\n",
    "print(\"10th term of the fibonacci series is:\")\n",
    "print(fibonacci(10))"
   ]
  },
  {
   "cell_type": "code",
   "execution_count": 6,
   "id": "7d39e19b",
   "metadata": {},
   "outputs": [
    {
     "name": "stdout",
     "output_type": "stream",
     "text": [
      "10 terms of the fibonacci series are:\n",
      "[0, 1, 1, 2, 3, 5, 8, 13, 21, 34]\n"
     ]
    }
   ],
   "source": [
    "fibonacciList = [0, 1]\n",
    "# finding 10 terms of the series starting from 3rd term\n",
    "N = 10\n",
    "for term in range(3, N + 1):\n",
    "    value = fibonacciList[term - 2] + fibonacciList[term - 3]\n",
    "    fibonacciList.append(value)\n",
    "print(\"10 terms of the fibonacci series are:\")\n",
    "print(fibonacciList)"
   ]
  },
  {
   "cell_type": "code",
   "execution_count": null,
   "id": "4c5dd70b",
   "metadata": {},
   "outputs": [],
   "source": []
  }
 ],
 "metadata": {
  "kernelspec": {
   "display_name": "Python 3 (ipykernel)",
   "language": "python",
   "name": "python3"
  },
  "language_info": {
   "codemirror_mode": {
    "name": "ipython",
    "version": 3
   },
   "file_extension": ".py",
   "mimetype": "text/x-python",
   "name": "python",
   "nbconvert_exporter": "python",
   "pygments_lexer": "ipython3",
   "version": "3.9.13"
  }
 },
 "nbformat": 4,
 "nbformat_minor": 5
}
