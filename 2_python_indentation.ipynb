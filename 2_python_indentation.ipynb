{
 "cells": [
  {
   "cell_type": "markdown",
   "id": "e02b4123",
   "metadata": {},
   "source": [
    "# python indentation"
   ]
  },
  {
   "cell_type": "markdown",
   "id": "ea7c962f",
   "metadata": {},
   "source": [
    "Indentation refers to the spaces at the beginning of a code line.\n",
    "\n",
    "Where in other programming languages the indentation in code is for readability only, the indentation in Python is very important.\n",
    "\n",
    "Python uses indentation to indicate a block of code."
   ]
  },
  {
   "cell_type": "code",
   "execution_count": 3,
   "id": "58ebb13d",
   "metadata": {},
   "outputs": [
    {
     "name": "stdout",
     "output_type": "stream",
     "text": [
      "2 is less than 10!\n"
     ]
    }
   ],
   "source": [
    "if 2 < 10:\n",
    "  print(\"2 is less than 10!\")"
   ]
  },
  {
   "cell_type": "markdown",
   "id": "2543dc29",
   "metadata": {},
   "source": [
    "# if you skip the indentation,python will give you inentation error"
   ]
  },
  {
   "cell_type": "code",
   "execution_count": 7,
   "id": "b1eb42dd",
   "metadata": {},
   "outputs": [
    {
     "ename": "IndentationError",
     "evalue": "expected an indented block (2055720657.py, line 2)",
     "output_type": "error",
     "traceback": [
      "\u001b[1;36m  File \u001b[1;32m\"C:\\Users\\Hema Kokku\\AppData\\Local\\Temp\\ipykernel_6176\\2055720657.py\"\u001b[1;36m, line \u001b[1;32m2\u001b[0m\n\u001b[1;33m    print(\"2 is less than 10!\")\u001b[0m\n\u001b[1;37m    ^\u001b[0m\n\u001b[1;31mIndentationError\u001b[0m\u001b[1;31m:\u001b[0m expected an indented block\n"
     ]
    }
   ],
   "source": [
    "if 2 < 10:\n",
    "print(\"2 is less than 10!\")"
   ]
  },
  {
   "cell_type": "code",
   "execution_count": null,
   "id": "cf2b0d59",
   "metadata": {},
   "outputs": [],
   "source": []
  },
  {
   "cell_type": "code",
   "execution_count": null,
   "id": "fd5d4dd4",
   "metadata": {},
   "outputs": [],
   "source": []
  },
  {
   "cell_type": "code",
   "execution_count": null,
   "id": "8650356f",
   "metadata": {},
   "outputs": [],
   "source": []
  }
 ],
 "metadata": {
  "kernelspec": {
   "display_name": "Python 3 (ipykernel)",
   "language": "python",
   "name": "python3"
  },
  "language_info": {
   "codemirror_mode": {
    "name": "ipython",
    "version": 3
   },
   "file_extension": ".py",
   "mimetype": "text/x-python",
   "name": "python",
   "nbconvert_exporter": "python",
   "pygments_lexer": "ipython3",
   "version": "3.9.13"
  }
 },
 "nbformat": 4,
 "nbformat_minor": 5
}
