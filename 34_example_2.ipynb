{
 "cells": [
  {
   "cell_type": "code",
   "execution_count": 7,
   "id": "0ebbcd93",
   "metadata": {},
   "outputs": [
    {
     "name": "stdout",
     "output_type": "stream",
     "text": [
      "Welcome to Pizza shop\n",
      "Enter the size of pizza Eg: S or M or L : s\n",
      "Do you need Pepperoni Y or N: n\n",
      "Do you need extra cheese Y or N : y\n",
      "The Total bill is ₹ 180 only\n"
     ]
    }
   ],
   "source": [
    "print(\"Welcome to Pizza shop\")\n",
    "size = input(\"Enter the size of pizza Eg: S or M or L : \")\n",
    "add_pepporoni=input(\"Do you need Pepperoni Y or N: \")\n",
    "extra_cheese=input(\"Do you need extra cheese Y or N : \")\n",
    "bill=0\n",
    "\n",
    "if size==\"S\":\n",
    "  bill+=100\n",
    "elif size==\"M\":\n",
    "  bill+=150\n",
    "else:\n",
    "  bill+=180\n",
    "if add_pepporoni ==\"Y\":\n",
    "  if size==\"S\":\n",
    "   bill+=20\n",
    "  else:\n",
    "   bill+30\n",
    "\n",
    "if extra_cheese ==\"Y\":\n",
    " bill+=20\n",
    "\n",
    "print(f\"The Total bill is ₹ {bill} only\")"
   ]
  },
  {
   "cell_type": "code",
   "execution_count": null,
   "id": "03ab360e",
   "metadata": {},
   "outputs": [],
   "source": []
  }
 ],
 "metadata": {
  "kernelspec": {
   "display_name": "Python 3 (ipykernel)",
   "language": "python",
   "name": "python3"
  },
  "language_info": {
   "codemirror_mode": {
    "name": "ipython",
    "version": 3
   },
   "file_extension": ".py",
   "mimetype": "text/x-python",
   "name": "python",
   "nbconvert_exporter": "python",
   "pygments_lexer": "ipython3",
   "version": "3.9.13"
  }
 },
 "nbformat": 4,
 "nbformat_minor": 5
}
