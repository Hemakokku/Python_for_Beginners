{
 "cells": [
  {
   "cell_type": "code",
   "execution_count": 3,
   "id": "2d626f44",
   "metadata": {},
   "outputs": [
    {
     "name": "stdout",
     "output_type": "stream",
     "text": [
      "Enter a number: 153\n",
      "153  It is an Armstrong number\n"
     ]
    }
   ],
   "source": [
    "num = int(input(\"Enter a number: \"))\n",
    "\n",
    "i = 0\n",
    "\n",
    "result = num\n",
    "\n",
    "while result > 0:\n",
    "\n",
    "   new_digit = result % 10\n",
    "\n",
    "   i += new_digit ** 3\n",
    "\n",
    "   result //= 10\n",
    "\n",
    "if  num == i:\n",
    "\n",
    "   print(num,\" It is an Armstrong number\")\n",
    "\n",
    "else:\n",
    "\n",
    "   print(num,\" It is not an Armstrong number\") \n"
   ]
  },
  {
   "cell_type": "code",
   "execution_count": null,
   "id": "758e34bd",
   "metadata": {},
   "outputs": [],
   "source": []
  }
 ],
 "metadata": {
  "kernelspec": {
   "display_name": "Python 3 (ipykernel)",
   "language": "python",
   "name": "python3"
  },
  "language_info": {
   "codemirror_mode": {
    "name": "ipython",
    "version": 3
   },
   "file_extension": ".py",
   "mimetype": "text/x-python",
   "name": "python",
   "nbconvert_exporter": "python",
   "pygments_lexer": "ipython3",
   "version": "3.9.13"
  }
 },
 "nbformat": 4,
 "nbformat_minor": 5
}
