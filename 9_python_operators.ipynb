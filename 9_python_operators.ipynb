{
 "cells": [
  {
   "cell_type": "markdown",
   "id": "df51556d",
   "metadata": {},
   "source": [
    "# python operators"
   ]
  },
  {
   "cell_type": "markdown",
   "id": "89798d89",
   "metadata": {},
   "source": [
    "Operators are used to perform operations on variables and values.\n",
    "\n",
    "In the example below, we use the + operator to add together two values:"
   ]
  },
  {
   "cell_type": "markdown",
   "id": "37d4037b",
   "metadata": {},
   "source": [
    "Python divides the operators in the following groups:\n",
    "\n",
    "Arithmetic operators\n",
    "Assignment operators\n",
    "Comparison operators\n",
    "Logical operators\n",
    "Identity operators\n",
    "Membership operators\n",
    "Bitwise operators"
   ]
  },
  {
   "cell_type": "markdown",
   "id": "dfc83aa1",
   "metadata": {},
   "source": [
    "# arthematic operators"
   ]
  },
  {
   "cell_type": "markdown",
   "id": "e5122ed2",
   "metadata": {},
   "source": [
    "Arithmetic operators are used with numeric values to perform common mathematical operations:\n",
    "\n"
   ]
  },
  {
   "cell_type": "markdown",
   "id": "bd94f3ff",
   "metadata": {},
   "source": [
    "addition"
   ]
  },
  {
   "cell_type": "code",
   "execution_count": 1,
   "id": "9b9acd12",
   "metadata": {},
   "outputs": [
    {
     "name": "stdout",
     "output_type": "stream",
     "text": [
      "62\n"
     ]
    }
   ],
   "source": [
    "a=55\n",
    "b=7\n",
    "print(a+b)"
   ]
  },
  {
   "cell_type": "markdown",
   "id": "83643a26",
   "metadata": {},
   "source": [
    "subtraction"
   ]
  },
  {
   "cell_type": "code",
   "execution_count": 2,
   "id": "a14ab0c7",
   "metadata": {},
   "outputs": [
    {
     "name": "stdout",
     "output_type": "stream",
     "text": [
      "48\n"
     ]
    }
   ],
   "source": [
    "a=55\n",
    "b=7\n",
    "print(a-b)"
   ]
  },
  {
   "cell_type": "markdown",
   "id": "44ea4de8",
   "metadata": {},
   "source": [
    "multiplication"
   ]
  },
  {
   "cell_type": "code",
   "execution_count": 3,
   "id": "5f2b8569",
   "metadata": {},
   "outputs": [
    {
     "name": "stdout",
     "output_type": "stream",
     "text": [
      "385\n"
     ]
    }
   ],
   "source": [
    "a=55\n",
    "b=7\n",
    "print(a*b)"
   ]
  },
  {
   "cell_type": "markdown",
   "id": "c952a755",
   "metadata": {},
   "source": [
    "division"
   ]
  },
  {
   "cell_type": "code",
   "execution_count": 4,
   "id": "82f791de",
   "metadata": {},
   "outputs": [
    {
     "name": "stdout",
     "output_type": "stream",
     "text": [
      "7.857142857142857\n"
     ]
    }
   ],
   "source": [
    "a=55\n",
    "b=7\n",
    "print(a/b)"
   ]
  },
  {
   "cell_type": "markdown",
   "id": "1a169128",
   "metadata": {},
   "source": [
    "modulus"
   ]
  },
  {
   "cell_type": "code",
   "execution_count": 5,
   "id": "079741f3",
   "metadata": {},
   "outputs": [
    {
     "name": "stdout",
     "output_type": "stream",
     "text": [
      "6\n"
     ]
    }
   ],
   "source": [
    "a=55\n",
    "b=7\n",
    "print(a%b)"
   ]
  },
  {
   "cell_type": "markdown",
   "id": "f6a828f4",
   "metadata": {},
   "source": [
    "exponentiation"
   ]
  },
  {
   "cell_type": "code",
   "execution_count": 6,
   "id": "471eba1b",
   "metadata": {},
   "outputs": [
    {
     "name": "stdout",
     "output_type": "stream",
     "text": [
      "1522435234375\n"
     ]
    }
   ],
   "source": [
    "a=55\n",
    "b=7\n",
    "print(a**b)"
   ]
  },
  {
   "cell_type": "markdown",
   "id": "fb9cdb32",
   "metadata": {},
   "source": [
    "floor division"
   ]
  },
  {
   "cell_type": "code",
   "execution_count": 7,
   "id": "ed0e191f",
   "metadata": {},
   "outputs": [
    {
     "name": "stdout",
     "output_type": "stream",
     "text": [
      "7\n"
     ]
    }
   ],
   "source": [
    "a=55\n",
    "b=7\n",
    "print(a//b)"
   ]
  },
  {
   "cell_type": "markdown",
   "id": "f01ecef9",
   "metadata": {},
   "source": [
    "# assignment operators"
   ]
  },
  {
   "cell_type": "markdown",
   "id": "ae2fe4ac",
   "metadata": {},
   "source": [
    "Assignment operators are used to assign values to variables:"
   ]
  },
  {
   "cell_type": "code",
   "execution_count": 8,
   "id": "61c20b91",
   "metadata": {},
   "outputs": [
    {
     "name": "stdout",
     "output_type": "stream",
     "text": [
      "10\n"
     ]
    }
   ],
   "source": [
    "a=10\n",
    "print(a)"
   ]
  },
  {
   "cell_type": "code",
   "execution_count": 9,
   "id": "3f5f41d6",
   "metadata": {},
   "outputs": [
    {
     "name": "stdout",
     "output_type": "stream",
     "text": [
      "12\n"
     ]
    }
   ],
   "source": [
    "a=10\n",
    "a+=2\n",
    "print(a)"
   ]
  },
  {
   "cell_type": "code",
   "execution_count": 10,
   "id": "f153cba6",
   "metadata": {},
   "outputs": [
    {
     "name": "stdout",
     "output_type": "stream",
     "text": [
      "8\n"
     ]
    }
   ],
   "source": [
    "a=10\n",
    "a-=2\n",
    "print(a)"
   ]
  },
  {
   "cell_type": "code",
   "execution_count": 11,
   "id": "79b5d7f7",
   "metadata": {},
   "outputs": [
    {
     "name": "stdout",
     "output_type": "stream",
     "text": [
      "20\n"
     ]
    }
   ],
   "source": [
    "a=10\n",
    "a*=2\n",
    "print(a)"
   ]
  },
  {
   "cell_type": "code",
   "execution_count": 12,
   "id": "0778c23b",
   "metadata": {},
   "outputs": [
    {
     "name": "stdout",
     "output_type": "stream",
     "text": [
      "5.0\n"
     ]
    }
   ],
   "source": [
    "a=10\n",
    "a/=2\n",
    "print(a)"
   ]
  },
  {
   "cell_type": "code",
   "execution_count": 13,
   "id": "a89a24b6",
   "metadata": {},
   "outputs": [
    {
     "name": "stdout",
     "output_type": "stream",
     "text": [
      "0\n"
     ]
    }
   ],
   "source": [
    "a=10\n",
    "a%=2\n",
    "print(a)"
   ]
  },
  {
   "cell_type": "code",
   "execution_count": 14,
   "id": "0a683e40",
   "metadata": {},
   "outputs": [
    {
     "name": "stdout",
     "output_type": "stream",
     "text": [
      "100\n"
     ]
    }
   ],
   "source": [
    "a=10\n",
    "a**=2\n",
    "print(a)"
   ]
  },
  {
   "cell_type": "code",
   "execution_count": 15,
   "id": "3ad93d97",
   "metadata": {},
   "outputs": [
    {
     "name": "stdout",
     "output_type": "stream",
     "text": [
      "5\n"
     ]
    }
   ],
   "source": [
    "a=10\n",
    "a//=2\n",
    "print(a)"
   ]
  },
  {
   "cell_type": "code",
   "execution_count": 16,
   "id": "954d466a",
   "metadata": {},
   "outputs": [
    {
     "name": "stdout",
     "output_type": "stream",
     "text": [
      "2\n"
     ]
    }
   ],
   "source": [
    "a=10\n",
    "a&=2\n",
    "print(a)"
   ]
  },
  {
   "cell_type": "code",
   "execution_count": 17,
   "id": "68e7428c",
   "metadata": {},
   "outputs": [
    {
     "name": "stdout",
     "output_type": "stream",
     "text": [
      "10\n"
     ]
    }
   ],
   "source": [
    "a=10\n",
    "a|=2\n",
    "print(a)"
   ]
  },
  {
   "cell_type": "code",
   "execution_count": 18,
   "id": "0cd0f87d",
   "metadata": {},
   "outputs": [
    {
     "name": "stdout",
     "output_type": "stream",
     "text": [
      "8\n"
     ]
    }
   ],
   "source": [
    "a=10\n",
    "a^=2\n",
    "print(a)"
   ]
  },
  {
   "cell_type": "code",
   "execution_count": 19,
   "id": "10174017",
   "metadata": {},
   "outputs": [
    {
     "name": "stdout",
     "output_type": "stream",
     "text": [
      "40\n"
     ]
    }
   ],
   "source": [
    "a=10\n",
    "a<<=2\n",
    "print(a)"
   ]
  },
  {
   "cell_type": "code",
   "execution_count": 20,
   "id": "dc2bd228",
   "metadata": {},
   "outputs": [
    {
     "name": "stdout",
     "output_type": "stream",
     "text": [
      "2\n"
     ]
    }
   ],
   "source": [
    "a=10\n",
    "a>>=2\n",
    "print(a)"
   ]
  },
  {
   "cell_type": "markdown",
   "id": "a55ef21d",
   "metadata": {},
   "source": [
    "# comparision operators"
   ]
  },
  {
   "cell_type": "markdown",
   "id": "80c9455a",
   "metadata": {},
   "source": [
    "Comparison operators are used to compare two values:"
   ]
  },
  {
   "cell_type": "markdown",
   "id": "f8011ab8",
   "metadata": {},
   "source": [
    "equal to operator"
   ]
  },
  {
   "cell_type": "code",
   "execution_count": 21,
   "id": "584a85b2",
   "metadata": {},
   "outputs": [
    {
     "name": "stdout",
     "output_type": "stream",
     "text": [
      "False\n"
     ]
    }
   ],
   "source": [
    "x = 10\n",
    "y = 55\n",
    "\n",
    "print(x == y)"
   ]
  },
  {
   "cell_type": "markdown",
   "id": "615133eb",
   "metadata": {},
   "source": [
    "not equal"
   ]
  },
  {
   "cell_type": "code",
   "execution_count": 22,
   "id": "2241ee21",
   "metadata": {},
   "outputs": [
    {
     "name": "stdout",
     "output_type": "stream",
     "text": [
      "True\n"
     ]
    }
   ],
   "source": [
    "x = 5\n",
    "y = 3\n",
    "\n",
    "print(x != y)"
   ]
  },
  {
   "cell_type": "markdown",
   "id": "9015f8f6",
   "metadata": {},
   "source": [
    "greater than"
   ]
  },
  {
   "cell_type": "code",
   "execution_count": 23,
   "id": "b513067a",
   "metadata": {},
   "outputs": [
    {
     "name": "stdout",
     "output_type": "stream",
     "text": [
      "True\n"
     ]
    }
   ],
   "source": [
    "x = 5\n",
    "y = 3\n",
    "\n",
    "print(x > y)"
   ]
  },
  {
   "cell_type": "markdown",
   "id": "3352a01f",
   "metadata": {},
   "source": [
    "less than"
   ]
  },
  {
   "cell_type": "code",
   "execution_count": 24,
   "id": "fa1f3c36",
   "metadata": {},
   "outputs": [
    {
     "name": "stdout",
     "output_type": "stream",
     "text": [
      "False\n"
     ]
    }
   ],
   "source": [
    "x = 5\n",
    "y = 3\n",
    "\n",
    "print(x < y)"
   ]
  },
  {
   "cell_type": "markdown",
   "id": "d8d03e18",
   "metadata": {},
   "source": [
    "greater than or equal to"
   ]
  },
  {
   "cell_type": "code",
   "execution_count": 25,
   "id": "15b51394",
   "metadata": {},
   "outputs": [
    {
     "name": "stdout",
     "output_type": "stream",
     "text": [
      "True\n"
     ]
    }
   ],
   "source": [
    "x = 5\n",
    "y = 3\n",
    "\n",
    "print(x >= y)"
   ]
  },
  {
   "cell_type": "markdown",
   "id": "13158c94",
   "metadata": {},
   "source": [
    "less than or equal to"
   ]
  },
  {
   "cell_type": "code",
   "execution_count": 26,
   "id": "362b55aa",
   "metadata": {},
   "outputs": [
    {
     "name": "stdout",
     "output_type": "stream",
     "text": [
      "False\n"
     ]
    }
   ],
   "source": [
    "x = 5\n",
    "y = 3\n",
    "\n",
    "print(x <= y)"
   ]
  },
  {
   "cell_type": "markdown",
   "id": "c714dec4",
   "metadata": {},
   "source": [
    "# logical operators"
   ]
  },
  {
   "cell_type": "markdown",
   "id": "bfb09da5",
   "metadata": {},
   "source": [
    "Logical operators are used to combine conditional statements:"
   ]
  },
  {
   "cell_type": "markdown",
   "id": "67f63074",
   "metadata": {},
   "source": [
    "and"
   ]
  },
  {
   "cell_type": "code",
   "execution_count": 27,
   "id": "38bf7eba",
   "metadata": {},
   "outputs": [
    {
     "name": "stdout",
     "output_type": "stream",
     "text": [
      "False\n"
     ]
    }
   ],
   "source": [
    "x = 10\n",
    "\n",
    "print(x > 5 and x < 10)\n"
   ]
  },
  {
   "cell_type": "markdown",
   "id": "b0fbeb32",
   "metadata": {},
   "source": [
    "or"
   ]
  },
  {
   "cell_type": "code",
   "execution_count": 28,
   "id": "70f09650",
   "metadata": {},
   "outputs": [
    {
     "name": "stdout",
     "output_type": "stream",
     "text": [
      "True\n"
     ]
    }
   ],
   "source": [
    "x = 10\n",
    "\n",
    "print(x > 5 or x < 10)\n"
   ]
  },
  {
   "cell_type": "markdown",
   "id": "b4dee164",
   "metadata": {},
   "source": [
    "not"
   ]
  },
  {
   "cell_type": "code",
   "execution_count": 30,
   "id": "72376206",
   "metadata": {},
   "outputs": [
    {
     "name": "stdout",
     "output_type": "stream",
     "text": [
      "True\n"
     ]
    }
   ],
   "source": [
    "x = 10\n",
    "\n",
    "print(not(x > 5 and x < 10))\n"
   ]
  },
  {
   "cell_type": "markdown",
   "id": "6fb26fde",
   "metadata": {},
   "source": [
    "# identity operators"
   ]
  },
  {
   "cell_type": "markdown",
   "id": "b689c677",
   "metadata": {},
   "source": [
    "Identity operators are used to compare the objects, not if they are equal, but if they are actually the same object, with the same memory location:"
   ]
  },
  {
   "cell_type": "markdown",
   "id": "956834b6",
   "metadata": {},
   "source": [
    "is"
   ]
  },
  {
   "cell_type": "code",
   "execution_count": 31,
   "id": "77ec9771",
   "metadata": {},
   "outputs": [
    {
     "name": "stdout",
     "output_type": "stream",
     "text": [
      "True\n",
      "False\n",
      "False\n"
     ]
    }
   ],
   "source": [
    "x = [1,2,3,4,5]\n",
    "y = [1,3,4,5,6]\n",
    "z = x\n",
    "\n",
    "print(x is z)\n",
    "\n",
    "# returns true\n",
    "\n",
    "print(x is y)\n",
    "\n",
    "# returns False because x is not the same as y, even if they have the same content\n",
    "\n",
    "print(x == y)\n",
    "\n",
    "# to demonstrate the difference betweeen \"is\" and \"==\":\n"
   ]
  },
  {
   "cell_type": "markdown",
   "id": "1196dff6",
   "metadata": {},
   "source": [
    "is not"
   ]
  },
  {
   "cell_type": "code",
   "execution_count": 32,
   "id": "64bf2a75",
   "metadata": {},
   "outputs": [
    {
     "name": "stdout",
     "output_type": "stream",
     "text": [
      "False\n",
      "True\n",
      "True\n"
     ]
    }
   ],
   "source": [
    "x = [1,2,3,4,5]\n",
    "y = [1,3,4,5,6]\n",
    "z = x\n",
    "\n",
    "print(x is not z)\n",
    "\n",
    "# returns false\n",
    "\n",
    "print(x is not y)\n",
    "\n",
    "# returns true because x is not the same as y, even if they have the same content\n",
    "\n",
    "print(x != y)\n",
    "\n",
    "# to demonstrate the difference betweeen \"is\" and \"==\":\n"
   ]
  },
  {
   "cell_type": "markdown",
   "id": "611fe73f",
   "metadata": {},
   "source": [
    "# membership operators"
   ]
  },
  {
   "cell_type": "markdown",
   "id": "f29b40a8",
   "metadata": {},
   "source": [
    "Membership operators are used to test if a sequence is presented in an object:"
   ]
  },
  {
   "cell_type": "markdown",
   "id": "ea333b1c",
   "metadata": {},
   "source": [
    "in"
   ]
  },
  {
   "cell_type": "code",
   "execution_count": 33,
   "id": "1090eaac",
   "metadata": {},
   "outputs": [
    {
     "name": "stdout",
     "output_type": "stream",
     "text": [
      "True\n"
     ]
    }
   ],
   "source": [
    "x = [\"apple\", \"orange\"]\n",
    "\n",
    "print(\"apple\" in x)"
   ]
  },
  {
   "cell_type": "markdown",
   "id": "4b9cb11b",
   "metadata": {},
   "source": [
    "not in"
   ]
  },
  {
   "cell_type": "code",
   "execution_count": 34,
   "id": "496ce061",
   "metadata": {},
   "outputs": [
    {
     "name": "stdout",
     "output_type": "stream",
     "text": [
      "False\n"
     ]
    }
   ],
   "source": [
    "x = [\"apple\", \"orange\"]\n",
    "\n",
    "print(\"apple\" not in x)"
   ]
  },
  {
   "cell_type": "markdown",
   "id": "1843b985",
   "metadata": {},
   "source": [
    "# bitwise operators"
   ]
  },
  {
   "cell_type": "markdown",
   "id": "f2fa1d8d",
   "metadata": {},
   "source": [
    "Bitwise operators are used to compare (binary) numbers:"
   ]
  },
  {
   "cell_type": "code",
   "execution_count": 37,
   "id": "ab490a3b",
   "metadata": {},
   "outputs": [
    {
     "name": "stdout",
     "output_type": "stream",
     "text": [
      " Value of c is  12\n",
      " Value of c is  61\n",
      " Value of c is  49\n",
      " Value of c is  -61\n",
      " Value of c is  240\n",
      " Value of c is  15\n"
     ]
    }
   ],
   "source": [
    "a = 60            # 60 = 0011 1100 \n",
    "b = 13            # 13 = 0000 1101 \n",
    "c = 0\n",
    "\n",
    "c = a & b;        # 12 = 0000 1100\n",
    "print (\" Value of c is \", c)\n",
    "\n",
    "c = a | b;        # 61 = 0011 1101 \n",
    "print(\" Value of c is \", c )\n",
    "\n",
    "c = a ^ b;        # 49 = 0011 0001\n",
    "print (\" Value of c is \", c)\n",
    "\n",
    "c = ~a;           # -61 = 1100 0011\n",
    "print (\" Value of c is \", c)\n",
    "\n",
    "c = a << 2;       # 240 = 1111 0000\n",
    "print (\" Value of c is \", c)\n",
    "\n",
    "c = a >> 2;       # 15 = 0000 1111\n",
    "print (\" Value of c is \", c)"
   ]
  },
  {
   "cell_type": "code",
   "execution_count": null,
   "id": "1245631a",
   "metadata": {},
   "outputs": [],
   "source": []
  }
 ],
 "metadata": {
  "kernelspec": {
   "display_name": "Python 3 (ipykernel)",
   "language": "python",
   "name": "python3"
  },
  "language_info": {
   "codemirror_mode": {
    "name": "ipython",
    "version": 3
   },
   "file_extension": ".py",
   "mimetype": "text/x-python",
   "name": "python",
   "nbconvert_exporter": "python",
   "pygments_lexer": "ipython3",
   "version": "3.9.13"
  }
 },
 "nbformat": 4,
 "nbformat_minor": 5
}
