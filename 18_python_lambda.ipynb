{
 "cells": [
  {
   "cell_type": "markdown",
   "id": "d0266592",
   "metadata": {},
   "source": [
    "# Python Lambda"
   ]
  },
  {
   "cell_type": "markdown",
   "id": "55679194",
   "metadata": {},
   "source": [
    "A lambda function is a small anonymous function.\n",
    "\n",
    "A lambda function can take any number of arguments, but can only have one expression."
   ]
  },
  {
   "cell_type": "markdown",
   "id": "702ee05e",
   "metadata": {},
   "source": [
    "The expression is executed and the result is returned:"
   ]
  },
  {
   "cell_type": "code",
   "execution_count": 1,
   "id": "e17c43f6",
   "metadata": {},
   "outputs": [
    {
     "name": "stdout",
     "output_type": "stream",
     "text": [
      "60\n"
     ]
    }
   ],
   "source": [
    "x = lambda a : a + 55\n",
    "print(x(5))"
   ]
  },
  {
   "cell_type": "markdown",
   "id": "f5ad0c7b",
   "metadata": {},
   "source": [
    "# Why Use Lambda Functions?\n",
    "The power of lambda is better shown when you use them as an anonymous function inside another function.\n",
    "\n",
    "Say you have a function definition that takes one argument, and that argument will be multiplied with an unknown number:"
   ]
  },
  {
   "cell_type": "code",
   "execution_count": 2,
   "id": "67bfffca",
   "metadata": {},
   "outputs": [
    {
     "name": "stdout",
     "output_type": "stream",
     "text": [
      "40\n"
     ]
    }
   ],
   "source": [
    "x = lambda a, b : a * b     #Lambda functions can take any number of arguments\n",
    "print(x(5, 8))"
   ]
  },
  {
   "cell_type": "markdown",
   "id": "0b16b7df",
   "metadata": {},
   "source": [
    "Use that function definition to make a function that always doubles the number you send in:"
   ]
  },
  {
   "cell_type": "code",
   "execution_count": 3,
   "id": "d8a42150",
   "metadata": {},
   "outputs": [
    {
     "name": "stdout",
     "output_type": "stream",
     "text": [
      "60\n"
     ]
    }
   ],
   "source": [
    "def myfunc(n):\n",
    "  return lambda a : a * n\n",
    "\n",
    "mydoubler = myfunc(6)   #make a function that always doubles the number you send in.\n",
    "\n",
    "print(mydoubler(10))"
   ]
  },
  {
   "cell_type": "markdown",
   "id": "f3c02f9f",
   "metadata": {},
   "source": [
    "Or, use the same function definition to make a function that always triples the number you send in:"
   ]
  },
  {
   "cell_type": "code",
   "execution_count": 4,
   "id": "cebb564c",
   "metadata": {},
   "outputs": [
    {
     "name": "stdout",
     "output_type": "stream",
     "text": [
      "250\n"
     ]
    }
   ],
   "source": [
    "def myfunc(n):\n",
    "  return lambda a : a * n\n",
    "\n",
    "mytripler = myfunc(5) #make a function that always triples the number you send in.\n",
    "\n",
    "print(mytripler(50))\n"
   ]
  },
  {
   "cell_type": "markdown",
   "id": "ae49ae3e",
   "metadata": {},
   "source": [
    "Or, use the same function definition to make both functions, in the same program:"
   ]
  },
  {
   "cell_type": "code",
   "execution_count": 5,
   "id": "758b088e",
   "metadata": {},
   "outputs": [
    {
     "name": "stdout",
     "output_type": "stream",
     "text": [
      "50\n",
      "80\n"
     ]
    }
   ],
   "source": [
    "def myfunc(n):\n",
    "  return lambda a : a * n\n",
    "\n",
    "mydoubler = myfunc(5)\n",
    "mytripler = myfunc(8)  \n",
    "\n",
    "print(mydoubler(10))\n",
    "print(mytripler(10))\n"
   ]
  },
  {
   "cell_type": "code",
   "execution_count": null,
   "id": "ce84148e",
   "metadata": {},
   "outputs": [],
   "source": []
  }
 ],
 "metadata": {
  "kernelspec": {
   "display_name": "Python 3 (ipykernel)",
   "language": "python",
   "name": "python3"
  },
  "language_info": {
   "codemirror_mode": {
    "name": "ipython",
    "version": 3
   },
   "file_extension": ".py",
   "mimetype": "text/x-python",
   "name": "python",
   "nbconvert_exporter": "python",
   "pygments_lexer": "ipython3",
   "version": "3.9.13"
  }
 },
 "nbformat": 4,
 "nbformat_minor": 5
}
