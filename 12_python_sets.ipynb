{
 "cells": [
  {
   "cell_type": "markdown",
   "id": "2ec4687b",
   "metadata": {},
   "source": [
    "# python sets"
   ]
  },
  {
   "cell_type": "markdown",
   "id": "872c9b9b",
   "metadata": {},
   "source": [
    "Sets are used to store multiple items in a single variable.\n",
    "\n",
    "Set is one of 4 built-in data types in Python used to store collections of data, the other 3 are List, Tuple, and Dictionary, all with different qualities and usage.\n",
    "\n",
    "A set is a collection which is unordered, unchangeable*, and unindexed."
   ]
  },
  {
   "cell_type": "markdown",
   "id": "9c6081bb",
   "metadata": {},
   "source": [
    "# Set Items\n",
    "Set items are unordered, unchangeable, and do not allow duplicate values.\n",
    "\n"
   ]
  },
  {
   "cell_type": "markdown",
   "id": "c7f2b85f",
   "metadata": {},
   "source": [
    "# Unordered\n",
    "Unordered means that the items in a set do not have a defined order.\n",
    "\n",
    "Set items can appear in a different order every time you use them, and cannot be referred to by index or key."
   ]
  },
  {
   "cell_type": "markdown",
   "id": "a02f299f",
   "metadata": {},
   "source": [
    "# Unchangeable\n",
    "Set items are unchangeable, meaning that we cannot change the items after the set has been created."
   ]
  },
  {
   "cell_type": "code",
   "execution_count": 2,
   "id": "7baf914c",
   "metadata": {},
   "outputs": [
    {
     "name": "stdout",
     "output_type": "stream",
     "text": [
      "{'cherry', 'mango', 'orange', 'berry', 'apple'}\n"
     ]
    }
   ],
   "source": [
    "set = {\"apple\", \"orange\", \"cherry\",\"berry\",\"mango\",\"cherry\"}\n",
    "print(set)"
   ]
  },
  {
   "cell_type": "markdown",
   "id": "ad933a19",
   "metadata": {},
   "source": [
    "# Duplicates Not Allowed"
   ]
  },
  {
   "cell_type": "markdown",
   "id": "2841358d",
   "metadata": {},
   "source": [
    "Sets cannot have two items with the same value."
   ]
  },
  {
   "cell_type": "code",
   "execution_count": 3,
   "id": "ea60da73",
   "metadata": {},
   "outputs": [
    {
     "name": "stdout",
     "output_type": "stream",
     "text": [
      "{'cherry', 'mango', 'orange', 'berry', 'apple'}\n"
     ]
    }
   ],
   "source": [
    "set = {\"apple\", \"orange\", \"cherry\",\"berry\",\"mango\",\"cherry\"}\n",
    "print(set)"
   ]
  },
  {
   "cell_type": "markdown",
   "id": "d32ccf14",
   "metadata": {},
   "source": [
    "# Length of a Set"
   ]
  },
  {
   "cell_type": "markdown",
   "id": "1fd68740",
   "metadata": {},
   "source": [
    "To determine how many items a set has, use the len() function."
   ]
  },
  {
   "cell_type": "code",
   "execution_count": 4,
   "id": "f3f1ccaa",
   "metadata": {},
   "outputs": [
    {
     "name": "stdout",
     "output_type": "stream",
     "text": [
      "5\n"
     ]
    }
   ],
   "source": [
    "set = {\"apple\", \"orange\", \"cherry\",\"berry\",\"mango\",\"cherry\"}\n",
    "print(len(set))"
   ]
  },
  {
   "cell_type": "markdown",
   "id": "0484d054",
   "metadata": {},
   "source": [
    "# Data Types"
   ]
  },
  {
   "cell_type": "markdown",
   "id": "88f54ece",
   "metadata": {},
   "source": [
    "Set items can be of any data type:"
   ]
  },
  {
   "cell_type": "code",
   "execution_count": 5,
   "id": "5a1671a3",
   "metadata": {},
   "outputs": [
    {
     "name": "stdout",
     "output_type": "stream",
     "text": [
      "{'orange', 'apple', 'cherry', 'mango'}\n",
      "{1, 2, 3, 4, 5, 6, 7, 8, 9, 10}\n",
      "{False, True}\n"
     ]
    }
   ],
   "source": [
    "set1 = {\"apple\", \"orange\",\"mango\",\"cherry\"}\n",
    "set2 = {1,2,3,4,5,6,7,8,9,10}\n",
    "set3 = {True, False, False}\n",
    "print(set1)\n",
    "print(set2)\n",
    "print(set3)"
   ]
  },
  {
   "cell_type": "markdown",
   "id": "72217014",
   "metadata": {},
   "source": [
    "# type()"
   ]
  },
  {
   "cell_type": "markdown",
   "id": "83a9910b",
   "metadata": {},
   "source": [
    "From Python's perspective, sets are defined as objects with the data type 'set':"
   ]
  },
  {
   "cell_type": "code",
   "execution_count": 6,
   "id": "0a7b2fb1",
   "metadata": {},
   "outputs": [
    {
     "name": "stdout",
     "output_type": "stream",
     "text": [
      "<class 'set'>\n",
      "<class 'set'>\n",
      "<class 'set'>\n"
     ]
    }
   ],
   "source": [
    "set1 = {\"apple\", \"orange\",\"mango\",\"cherry\"}\n",
    "set2 = {1,2,3,4,5,6,7,8,9,10}\n",
    "set3 = {True, False, False}\n",
    "print(type(set1))\n",
    "print(type(set2))\n",
    "print(type(set3))"
   ]
  },
  {
   "cell_type": "markdown",
   "id": "f16f2e54",
   "metadata": {},
   "source": [
    "# set() Constructor"
   ]
  },
  {
   "cell_type": "markdown",
   "id": "969767a1",
   "metadata": {},
   "source": [
    "It is also possible to use the set() constructor to make a set."
   ]
  },
  {
   "cell_type": "markdown",
   "id": "54771315",
   "metadata": {},
   "source": [
    "# Python Collections (Arrays)\n",
    "There are four collection data types in the Python programming language:\n",
    "\n",
    "List is a collection which is ordered and changeable. Allows duplicate members.\n",
    "Tuple is a collection which is ordered and unchangeable. Allows duplicate members.\n",
    "Set is a collection which is unordered, unchangeable*, and unindexed. No duplicate members.\n",
    "Dictionary is a collection which is ordered** and changeable. No duplicate members."
   ]
  },
  {
   "cell_type": "code",
   "execution_count": 7,
   "id": "9220585f",
   "metadata": {},
   "outputs": [
    {
     "name": "stdout",
     "output_type": "stream",
     "text": [
      "('apple', 'orange', 'cherry', 'berry', 'mango', 'cherry')\n"
     ]
    }
   ],
   "source": [
    "set = ((\"apple\", \"orange\", \"cherry\",\"berry\",\"mango\",\"cherry\"))\n",
    "print(set)"
   ]
  },
  {
   "cell_type": "markdown",
   "id": "797b093e",
   "metadata": {},
   "source": [
    "# Access Set Items"
   ]
  },
  {
   "cell_type": "markdown",
   "id": "0654c875",
   "metadata": {},
   "source": [
    "# Access Items\n",
    "You cannot access items in a set by referring to an index or a key.\n",
    "\n",
    "But you can loop through the set items using a for loop, or ask if a specified value is present in a set, by using the in keyword."
   ]
  },
  {
   "cell_type": "code",
   "execution_count": 8,
   "id": "11201c19",
   "metadata": {},
   "outputs": [
    {
     "name": "stdout",
     "output_type": "stream",
     "text": [
      "apple\n",
      "orange\n",
      "cherry\n",
      "berry\n",
      "mango\n",
      "cherry\n"
     ]
    }
   ],
   "source": [
    "set = ((\"apple\", \"orange\", \"cherry\",\"berry\",\"mango\",\"cherry\"))\n",
    "for x in set:     #You cannot access items in a set by referring to an index or a key.\n",
    "  print(x)      #But you can loop through the set items using a for loop"
   ]
  },
  {
   "cell_type": "code",
   "execution_count": 9,
   "id": "d7d9363a",
   "metadata": {},
   "outputs": [
    {
     "name": "stdout",
     "output_type": "stream",
     "text": [
      "True\n"
     ]
    }
   ],
   "source": [
    "set = ((\"apple\", \"orange\", \"cherry\",\"berry\",\"mango\",\"cherry\"))\n",
    "print(\"apple\" in set)                                     #if a specified value is present in a set, by using the in keyword."
   ]
  },
  {
   "cell_type": "markdown",
   "id": "d1e24716",
   "metadata": {},
   "source": [
    "# Add items"
   ]
  },
  {
   "cell_type": "markdown",
   "id": "38a321d8",
   "metadata": {},
   "source": [
    "To add one item to a set use the add() method."
   ]
  },
  {
   "cell_type": "code",
   "execution_count": 10,
   "id": "85ec7772",
   "metadata": {},
   "outputs": [
    {
     "name": "stdout",
     "output_type": "stream",
     "text": [
      "{'cherry', 'mango', 'orange', 'berry', 'apple'}\n"
     ]
    }
   ],
   "source": [
    "set = {\"apple\", \"orange\", \"cherry\",\"berry\",\"mango\",\"cherry\"}\n",
    "set.add(\"orange\")\n",
    "print(set)"
   ]
  },
  {
   "cell_type": "markdown",
   "id": "dd814343",
   "metadata": {},
   "source": [
    "# add sets"
   ]
  },
  {
   "cell_type": "markdown",
   "id": "2fff7a53",
   "metadata": {},
   "source": [
    "To add items from another set into the current set, use the update() method."
   ]
  },
  {
   "cell_type": "code",
   "execution_count": 11,
   "id": "30c345aa",
   "metadata": {},
   "outputs": [
    {
     "name": "stdout",
     "output_type": "stream",
     "text": [
      "{'pineapple', 'cherry', 'mango', 'orange', 'berry', 'apple', 'papaya'}\n"
     ]
    }
   ],
   "source": [
    "set = {\"apple\", \"orange\", \"cherry\",\"berry\",\"mango\",\"cherry\"}\n",
    "tropical = {\"pineapple\", \"mango\", \"papaya\"}\n",
    "\n",
    "set.update(tropical)\n",
    "print(set)"
   ]
  },
  {
   "cell_type": "markdown",
   "id": "c60da928",
   "metadata": {},
   "source": [
    "# Add Any Iterable"
   ]
  },
  {
   "cell_type": "markdown",
   "id": "33bf08c9",
   "metadata": {},
   "source": [
    "The object in the update() method does not have to be a set, it can be any iterable object (tuples, lists, dictionaries etc.)."
   ]
  },
  {
   "cell_type": "code",
   "execution_count": 12,
   "id": "5ddd21fb",
   "metadata": {},
   "outputs": [
    {
     "name": "stdout",
     "output_type": "stream",
     "text": [
      "{'cherry', 'mango', 'orange', 'kiwi', 'berry', 'apple'}\n"
     ]
    }
   ],
   "source": [
    "set = {\"apple\", \"orange\", \"cherry\",\"berry\",\"mango\",\"cherry\"}\n",
    "mylist = [\"kiwi\", \"orange\"]\n",
    "set.update(mylist)\n",
    "print(set)"
   ]
  },
  {
   "cell_type": "markdown",
   "id": "cb47704c",
   "metadata": {},
   "source": [
    "# Remove Item"
   ]
  },
  {
   "cell_type": "markdown",
   "id": "ccf7c591",
   "metadata": {},
   "source": [
    "To remove an item in a set, use the remove(), or the discard() method."
   ]
  },
  {
   "cell_type": "code",
   "execution_count": 13,
   "id": "5cd4f367",
   "metadata": {},
   "outputs": [
    {
     "name": "stdout",
     "output_type": "stream",
     "text": [
      "{'cherry', 'mango', 'berry', 'apple'}\n"
     ]
    }
   ],
   "source": [
    "set = {\"apple\", \"orange\", \"cherry\",\"berry\",\"mango\",\"cherry\"}\n",
    "set.remove(\"orange\")\n",
    "print(set)"
   ]
  },
  {
   "cell_type": "markdown",
   "id": "b0693341",
   "metadata": {},
   "source": [
    "discard()"
   ]
  },
  {
   "cell_type": "markdown",
   "id": "3fc5d2c7",
   "metadata": {},
   "source": [
    "Remove \"banana\" by using the discard() method:"
   ]
  },
  {
   "cell_type": "code",
   "execution_count": 14,
   "id": "8a5395ab",
   "metadata": {},
   "outputs": [
    {
     "name": "stdout",
     "output_type": "stream",
     "text": [
      "{'cherry', 'mango', 'berry', 'apple'}\n"
     ]
    }
   ],
   "source": [
    "set = {\"apple\", \"orange\", \"cherry\",\"berry\",\"mango\",\"cherry\"}\n",
    "set.discard(\"orange\")\n",
    "print(set)"
   ]
  },
  {
   "cell_type": "markdown",
   "id": "e8beb80a",
   "metadata": {},
   "source": [
    "# pop()"
   ]
  },
  {
   "cell_type": "markdown",
   "id": "12e805e0",
   "metadata": {},
   "source": [
    "Remove the last item by using the pop() method:"
   ]
  },
  {
   "cell_type": "code",
   "execution_count": 17,
   "id": "03e49ad5",
   "metadata": {},
   "outputs": [
    {
     "name": "stdout",
     "output_type": "stream",
     "text": [
      "{'mango', 'orange', 'berry', 'apple'}\n"
     ]
    }
   ],
   "source": [
    "set = {\"apple\", \"orange\", \"cherry\",\"berry\",\"mango\",\"cherry\"}\n",
    "set.pop()\n",
    "print(set)"
   ]
  },
  {
   "cell_type": "markdown",
   "id": "171f9f88",
   "metadata": {},
   "source": [
    "# clear()"
   ]
  },
  {
   "cell_type": "markdown",
   "id": "1831c18f",
   "metadata": {},
   "source": [
    "The clear() method empties the set:"
   ]
  },
  {
   "cell_type": "code",
   "execution_count": 18,
   "id": "1ff0ffe3",
   "metadata": {},
   "outputs": [
    {
     "name": "stdout",
     "output_type": "stream",
     "text": [
      "set()\n"
     ]
    }
   ],
   "source": [
    "set = {\"apple\", \"orange\", \"cherry\",\"berry\",\"mango\",\"cherry\"}\n",
    "set.clear()\n",
    "print(set)"
   ]
  },
  {
   "cell_type": "markdown",
   "id": "42845406",
   "metadata": {},
   "source": [
    "# del"
   ]
  },
  {
   "cell_type": "markdown",
   "id": "e7c11555",
   "metadata": {},
   "source": [
    "The del keyword will delete the set completely:"
   ]
  },
  {
   "cell_type": "code",
   "execution_count": 19,
   "id": "fd277ca3",
   "metadata": {},
   "outputs": [
    {
     "name": "stdout",
     "output_type": "stream",
     "text": [
      "<class 'set'>\n"
     ]
    }
   ],
   "source": [
    "set = {\"apple\", \"orange\", \"cherry\",\"berry\",\"mango\",\"cherry\"}\n",
    "del set\n",
    "print(set)"
   ]
  },
  {
   "cell_type": "markdown",
   "id": "075760a8",
   "metadata": {},
   "source": [
    "# loop items"
   ]
  },
  {
   "cell_type": "markdown",
   "id": "deb09439",
   "metadata": {},
   "source": [
    "You can loop through the set items by using a for loop:"
   ]
  },
  {
   "cell_type": "code",
   "execution_count": 20,
   "id": "66072e99",
   "metadata": {},
   "outputs": [
    {
     "name": "stdout",
     "output_type": "stream",
     "text": [
      "apple\n",
      "orange\n",
      "cherry\n",
      "berry\n",
      "mango\n",
      "cherry\n"
     ]
    }
   ],
   "source": [
    "set = ((\"apple\", \"orange\", \"cherry\",\"berry\",\"mango\",\"cherry\"))\n",
    "for x in set:     \n",
    "  print(x)  "
   ]
  },
  {
   "cell_type": "markdown",
   "id": "9422806f",
   "metadata": {},
   "source": [
    "# Join Two Sets"
   ]
  },
  {
   "cell_type": "markdown",
   "id": "ad53cc90",
   "metadata": {},
   "source": [
    "There are several ways to join two or more sets in Python.\n",
    "\n",
    "You can use the union() method that returns a new set containing all items from both sets, or the update() method that inserts all the items from one set into another:"
   ]
  },
  {
   "cell_type": "markdown",
   "id": "3ba6540c",
   "metadata": {},
   "source": [
    "union()"
   ]
  },
  {
   "cell_type": "markdown",
   "id": "a9856c2a",
   "metadata": {},
   "source": [
    "The union() method returns a new set with all items from both sets:"
   ]
  },
  {
   "cell_type": "code",
   "execution_count": 21,
   "id": "ddda0494",
   "metadata": {},
   "outputs": [
    {
     "name": "stdout",
     "output_type": "stream",
     "text": [
      "{1, 2, 3, 4, 'e', 'c', 5, 6, 7, 8, 9, 10, 'd', 'b', 'a'}\n"
     ]
    }
   ],
   "source": [
    "set1 = {\"a\", \"b\" , \"c\",\"d\",\"e\"}\n",
    "set2 = {1, 2, 3,4,5,6,7,8,9,10}\n",
    "\n",
    "set3 = set1.union(set2)\n",
    "print(set3)\n"
   ]
  },
  {
   "cell_type": "markdown",
   "id": "d7a35543",
   "metadata": {},
   "source": [
    "update"
   ]
  },
  {
   "cell_type": "markdown",
   "id": "dc457c34",
   "metadata": {},
   "source": [
    "The update() method inserts the items in set2 into set1:"
   ]
  },
  {
   "cell_type": "code",
   "execution_count": 23,
   "id": "0146f4ed",
   "metadata": {},
   "outputs": [
    {
     "name": "stdout",
     "output_type": "stream",
     "text": [
      "{1, 2, 3, 4, 'e', 'c', 5, 6, 7, 8, 9, 10, 'd', 'b', 'a'}\n"
     ]
    }
   ],
   "source": [
    "set1 = {\"a\",\"b\",\"c\",\"d\",\"e\"}\n",
    "set2 = {1,2,3,4,5,6,7,8,9,10}\n",
    "set1.update(set2)\n",
    "\n",
    "print(set1)"
   ]
  },
  {
   "cell_type": "markdown",
   "id": "40674c93",
   "metadata": {},
   "source": [
    "# Keep ONLY the Duplicates"
   ]
  },
  {
   "cell_type": "markdown",
   "id": "e7a4552a",
   "metadata": {},
   "source": [
    "# intersection_update()"
   ]
  },
  {
   "cell_type": "markdown",
   "id": "43e42b10",
   "metadata": {},
   "source": [
    "The intersection_update() method will keep only the items that are present in both sets."
   ]
  },
  {
   "cell_type": "code",
   "execution_count": 24,
   "id": "cb3e4a9e",
   "metadata": {},
   "outputs": [
    {
     "name": "stdout",
     "output_type": "stream",
     "text": [
      "{'mango'}\n"
     ]
    }
   ],
   "source": [
    "set = {\"apple\", \"orange\", \"cherry\",\"berry\",\"mango\",\"cherry\"}\n",
    "tropical = {\"pineapple\", \"mango\", \"papaya\"}\n",
    "set.intersection_update(tropical)\n",
    "print(set)"
   ]
  },
  {
   "cell_type": "markdown",
   "id": "86074e1f",
   "metadata": {},
   "source": [
    "intersection()"
   ]
  },
  {
   "cell_type": "markdown",
   "id": "1a1cc518",
   "metadata": {},
   "source": [
    "The intersection() method will return a new set, that only contains the items that are present in both sets."
   ]
  },
  {
   "cell_type": "code",
   "execution_count": 1,
   "id": "80143f71",
   "metadata": {},
   "outputs": [
    {
     "name": "stdout",
     "output_type": "stream",
     "text": [
      "{'mango'}\n"
     ]
    }
   ],
   "source": [
    "set = {\"apple\", \"orange\", \"cherry\",\"berry\",\"mango\",\"cherry\"}\n",
    "tropical = {\"pineapple\", \"mango\", \"papaya\"}\n",
    "x=set.intersection(tropical)\n",
    "print(x)"
   ]
  },
  {
   "cell_type": "markdown",
   "id": "b2d62879",
   "metadata": {},
   "source": [
    "# Keep All, But NOT the Duplicates"
   ]
  },
  {
   "cell_type": "markdown",
   "id": "da63f221",
   "metadata": {},
   "source": [
    "symmetric_difference_update"
   ]
  },
  {
   "cell_type": "markdown",
   "id": "2b71c356",
   "metadata": {},
   "source": [
    "The symmetric_difference_update() method will keep only the elements that are NOT present in both sets."
   ]
  },
  {
   "cell_type": "code",
   "execution_count": 27,
   "id": "de2ee47d",
   "metadata": {},
   "outputs": [
    {
     "name": "stdout",
     "output_type": "stream",
     "text": [
      "{'pineapple', 'cherry', 'orange', 'berry', 'apple', 'papaya'}\n"
     ]
    }
   ],
   "source": [
    "set = {\"apple\", \"orange\", \"cherry\",\"berry\",\"mango\",\"cherry\"}\n",
    "tropical = {\"pineapple\", \"mango\", \"papaya\"}\n",
    "set.symmetric_difference_update(tropical)\n",
    "print(set)"
   ]
  },
  {
   "cell_type": "markdown",
   "id": "01fd2517",
   "metadata": {},
   "source": [
    "symmetric_difference()"
   ]
  },
  {
   "cell_type": "markdown",
   "id": "5968e1ab",
   "metadata": {},
   "source": [
    "The symmetric_difference() method will return a new set, that contains only the elements that are NOT present in both sets."
   ]
  },
  {
   "cell_type": "code",
   "execution_count": 28,
   "id": "6aaef84d",
   "metadata": {},
   "outputs": [
    {
     "name": "stdout",
     "output_type": "stream",
     "text": [
      "{'apple', 'papaya', 'pineapple', 'cherry', 'orange', 'berry'}\n"
     ]
    }
   ],
   "source": [
    "set = {\"apple\", \"orange\", \"cherry\",\"berry\",\"mango\",\"cherry\"}\n",
    "tropical = {\"pineapple\", \"mango\", \"papaya\"}\n",
    "x=set.symmetric_difference(tropical)\n",
    "print(x)"
   ]
  },
  {
   "cell_type": "code",
   "execution_count": null,
   "id": "976635df",
   "metadata": {},
   "outputs": [],
   "source": []
  }
 ],
 "metadata": {
  "kernelspec": {
   "display_name": "Python 3 (ipykernel)",
   "language": "python",
   "name": "python3"
  },
  "language_info": {
   "codemirror_mode": {
    "name": "ipython",
    "version": 3
   },
   "file_extension": ".py",
   "mimetype": "text/x-python",
   "name": "python",
   "nbconvert_exporter": "python",
   "pygments_lexer": "ipython3",
   "version": "3.9.13"
  }
 },
 "nbformat": 4,
 "nbformat_minor": 5
}
