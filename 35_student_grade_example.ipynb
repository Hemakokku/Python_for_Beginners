{
 "cells": [
  {
   "cell_type": "code",
   "execution_count": 5,
   "id": "ffc70b41",
   "metadata": {},
   "outputs": [
    {
     "name": "stdout",
     "output_type": "stream",
     "text": [
      "Student Grader\n",
      "Your average marks is 71.83333333333333\n",
      "Your grade is C\n"
     ]
    }
   ],
   "source": [
    "print(\"Student Grader\")\n",
    "marks = [55, 64, 75, 80, 65,92]\n",
    "\n",
    "def find_average_marks(marks):\n",
    " sum_of_marks = sum(marks)\n",
    " number_of_subjects = len(marks)\n",
    "\n",
    " average_marks = sum_of_marks/number_of_subjects\n",
    "\n",
    " return average_marks\n",
    "\n",
    "\n",
    "def compute_grade(average_marks):\n",
    " if average_marks >= 90:\n",
    "  grade = 'A'\n",
    " elif average_marks >= 80:\n",
    "  grade = 'B'\n",
    " elif average_marks >= 70:\n",
    "  grade = 'C'\n",
    " elif average_marks >=60:\n",
    "  grade ='D'\n",
    " else:\n",
    "  grade = 'F'\n",
    "\n",
    " return grade\n",
    "\n",
    "\n",
    "average_marks = find_average_marks(marks)\n",
    "grade =compute_grade(average_marks)\n",
    "\n",
    "print(\"Your average marks is\", average_marks)\n",
    "print(\"Your grade is\", grade)"
   ]
  },
  {
   "cell_type": "code",
   "execution_count": null,
   "id": "98242c40",
   "metadata": {},
   "outputs": [],
   "source": []
  }
 ],
 "metadata": {
  "kernelspec": {
   "display_name": "Python 3 (ipykernel)",
   "language": "python",
   "name": "python3"
  },
  "language_info": {
   "codemirror_mode": {
    "name": "ipython",
    "version": 3
   },
   "file_extension": ".py",
   "mimetype": "text/x-python",
   "name": "python",
   "nbconvert_exporter": "python",
   "pygments_lexer": "ipython3",
   "version": "3.9.13"
  }
 },
 "nbformat": 4,
 "nbformat_minor": 5
}
