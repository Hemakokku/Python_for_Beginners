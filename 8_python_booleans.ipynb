{
 "cells": [
  {
   "cell_type": "markdown",
   "id": "6272d021",
   "metadata": {},
   "source": [
    "# python booleans"
   ]
  },
  {
   "cell_type": "markdown",
   "id": "db7180b2",
   "metadata": {},
   "source": [
    "In programming you often need to know if an expression is True or False.\n",
    "\n",
    "You can evaluate any expression in Python, and get one of two answers, True or False.\n",
    "\n",
    "When you compare two values, the expression is evaluated and Python returns the Boolean answer:"
   ]
  },
  {
   "cell_type": "code",
   "execution_count": 1,
   "id": "1fe75e85",
   "metadata": {},
   "outputs": [
    {
     "name": "stdout",
     "output_type": "stream",
     "text": [
      "True\n"
     ]
    }
   ],
   "source": [
    "print(55 > 9)"
   ]
  },
  {
   "cell_type": "code",
   "execution_count": 2,
   "id": "d8e32b2c",
   "metadata": {},
   "outputs": [
    {
     "name": "stdout",
     "output_type": "stream",
     "text": [
      "False\n"
     ]
    }
   ],
   "source": [
    "print(10 < 9)"
   ]
  },
  {
   "cell_type": "code",
   "execution_count": 3,
   "id": "13de3428",
   "metadata": {},
   "outputs": [
    {
     "name": "stdout",
     "output_type": "stream",
     "text": [
      "True\n"
     ]
    }
   ],
   "source": [
    "print(10 == 10)"
   ]
  },
  {
   "cell_type": "markdown",
   "id": "310a499d",
   "metadata": {},
   "source": [
    "# Evaluate Values and Variables\n",
    "The bool() function allows you to evaluate any value, and give you True or False in return,"
   ]
  },
  {
   "cell_type": "code",
   "execution_count": 4,
   "id": "433d2fc0",
   "metadata": {},
   "outputs": [
    {
     "name": "stdout",
     "output_type": "stream",
     "text": [
      "True\n",
      "True\n"
     ]
    }
   ],
   "source": [
    "print(bool(\"Hema\"))\n",
    "print(bool(55))"
   ]
  },
  {
   "cell_type": "code",
   "execution_count": 5,
   "id": "55807441",
   "metadata": {},
   "outputs": [
    {
     "name": "stdout",
     "output_type": "stream",
     "text": [
      "True\n",
      "True\n"
     ]
    }
   ],
   "source": [
    "x = \"Hema\"\n",
    "y = 55\n",
    "\n",
    "print(bool(x))\n",
    "print(bool(y))"
   ]
  },
  {
   "cell_type": "markdown",
   "id": "394327ca",
   "metadata": {},
   "source": [
    "# functions can return boolean value\n",
    "You can create functions that returns a Boolean Value:"
   ]
  },
  {
   "cell_type": "code",
   "execution_count": 6,
   "id": "d27cce45",
   "metadata": {},
   "outputs": [
    {
     "name": "stdout",
     "output_type": "stream",
     "text": [
      "NO!\n"
     ]
    }
   ],
   "source": [
    "def myFunction() :\n",
    "  return False\n",
    "\n",
    "if myFunction():\n",
    "  print(\"YES!\")\n",
    "else:\n",
    "  print(\"NO!\")"
   ]
  },
  {
   "cell_type": "code",
   "execution_count": null,
   "id": "9f1d2d7a",
   "metadata": {},
   "outputs": [],
   "source": []
  }
 ],
 "metadata": {
  "kernelspec": {
   "display_name": "Python 3 (ipykernel)",
   "language": "python",
   "name": "python3"
  },
  "language_info": {
   "codemirror_mode": {
    "name": "ipython",
    "version": 3
   },
   "file_extension": ".py",
   "mimetype": "text/x-python",
   "name": "python",
   "nbconvert_exporter": "python",
   "pygments_lexer": "ipython3",
   "version": "3.9.13"
  }
 },
 "nbformat": 4,
 "nbformat_minor": 5
}
